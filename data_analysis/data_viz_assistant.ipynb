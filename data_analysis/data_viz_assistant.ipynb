{
 "cells": [
  {
   "cell_type": "markdown",
   "metadata": {},
   "source": [
    "## Data analysis and visualisation with an Open AI assistant\n"
   ]
  },
  {
   "cell_type": "markdown",
   "metadata": {},
   "source": [
    "#### Import libraries\n",
    "Note: openai==1.2.4 was required here"
   ]
  },
  {
   "cell_type": "code",
   "execution_count": 1,
   "metadata": {},
   "outputs": [],
   "source": [
    "import os\n",
    "from dotenv import load_dotenv\n",
    "from openai import OpenAI\n",
    "from openai.types import Image, ImagesResponse\n",
    "import json\n",
    "from IPython.display import display, Markdown"
   ]
  },
  {
   "cell_type": "markdown",
   "metadata": {},
   "source": [
    "#### Define a series of helper functions"
   ]
  },
  {
   "cell_type": "code",
   "execution_count": 2,
   "metadata": {},
   "outputs": [],
   "source": [
    "# Capture json output from Assitants API\n",
    "def show_json(obj):\n",
    "    display(json.loads(obj.model_dump_json()))\n",
    "\n",
    "# Print messages from threads so you can read them\n",
    "def pretty_print(messages):\n",
    "    print(\"# Messages\")\n",
    "    for m in messages:\n",
    "        try:\n",
    "            print(f\"{m.role}: {m.content[0].text.value}\")\n",
    "        except:\n",
    "            pass\n",
    "    print()\n",
    "\n",
    "# Output any image created by the assistant\n",
    "def save_images(open_ai_file_name, desired_file_name):\n",
    "    client = OpenAI()\n",
    "\n",
    "    image_data = client.files.content(open_ai_file_name)\n",
    "    image_data_bytes = image_data.read()\n",
    "\n",
    "    with open(f\"./{desired_file_name}.png\", \"wb\") as file:\n",
    "        file.write(image_data_bytes)\n",
    "\n",
    "# Retrieve the thread from the assistants api\n",
    "def get_response(thread):\n",
    "    return client.beta.threads.messages.list(thread_id=thread.id, order=\"asc\")"
   ]
  },
  {
   "cell_type": "markdown",
   "metadata": {},
   "source": [
    "#### Define variables\n",
    "Note: Open api key is called from .env file - you will need to create your own .env file and obtain your own key"
   ]
  },
  {
   "cell_type": "code",
   "execution_count": 3,
   "metadata": {},
   "outputs": [],
   "source": [
    "load_dotenv()\n",
    "OPENAI_MODEL = \"gpt-4\"\n",
    "OPENAI_API_KEY = os.environ.get(\"OPENAI_API_KEY\")\n",
    "client = OpenAI()"
   ]
  },
  {
   "cell_type": "markdown",
   "metadata": {},
   "source": [
    "#### Assign the input file\n",
    "This is a file a downloaded from the World Bank Development Indicators dataset [WDI](https://databank.worldbank.org/source/world-development-indicators)"
   ]
  },
  {
   "cell_type": "code",
   "execution_count": 4,
   "metadata": {},
   "outputs": [],
   "source": [
    "\n",
    "file_path = \"./data/API_NY.GDP.PCAP.PP.CD_DS2_en_csv_v2_5728866.csv\"\n",
    "\n",
    "file = client.files.create(\n",
    "  file=open(file_path, \"rb\"),\n",
    "  purpose='assistants'\n",
    ")"
   ]
  },
  {
   "cell_type": "markdown",
   "metadata": {},
   "source": [
    "#### Create the assistant\n",
    "This will also appear in Open AI UI for Assiants when you are logged in"
   ]
  },
  {
   "cell_type": "code",
   "execution_count": 5,
   "metadata": {},
   "outputs": [],
   "source": [
    "assistant = client.beta.assistants.create(\n",
    "  name=\"Data visualizer\",\n",
    "  description=\"You are great at creating beautiful data visualizations. You analyze data present in .csv files, understand trends, and come up with data visualizations relevant to those trends. You also share a brief text summary of the trends observed.\",\n",
    "  model=\"gpt-4-1106-preview\",\n",
    "  tools=[{\"type\": \"code_interpreter\"}],\n",
    "  file_ids=[file.id]\n",
    ")"
   ]
  },
  {
   "cell_type": "markdown",
   "metadata": {},
   "source": [
    "#### Create a thread"
   ]
  },
  {
   "cell_type": "code",
   "execution_count": 6,
   "metadata": {},
   "outputs": [],
   "source": [
    "\n",
    "thread = client.beta.threads.create()"
   ]
  },
  {
   "cell_type": "markdown",
   "metadata": {},
   "source": [
    "#### Add a message to the thread\n",
    "Note: Here I instruct the assitant to skip the forst 4 rows, previously it did work out that this needed to be done, but you use a lot of tokens and it doesn't always work"
   ]
  },
  {
   "cell_type": "code",
   "execution_count": 7,
   "metadata": {},
   "outputs": [],
   "source": [
    "message = client.beta.threads.messages.create(\n",
    "      thread_id=thread.id,\n",
    "      role = \"user\",\n",
    "      content = \"Analyse the data for Switzerland and the UK. skip the first 4 rows when reading data in\",\n",
    "      file_ids= [file.id]\n",
    ")"
   ]
  },
  {
   "cell_type": "markdown",
   "metadata": {},
   "source": [
    "#### submit messages to the agent"
   ]
  },
  {
   "cell_type": "code",
   "execution_count": 8,
   "metadata": {},
   "outputs": [],
   "source": [
    "\n",
    "run = client.beta.threads.runs.create(\n",
    "  thread_id=thread.id,\n",
    "  assistant_id=assistant.id\n",
    ")"
   ]
  },
  {
   "cell_type": "markdown",
   "metadata": {},
   "source": [
    "#### retrieve messages from assistant"
   ]
  },
  {
   "cell_type": "code",
   "execution_count": 9,
   "metadata": {},
   "outputs": [
    {
     "data": {
      "text/plain": [
       "{'data': [{'id': 'msg_xzhywYRBZ8X3Xl3MJM9A0IMP',\n",
       "   'assistant_id': 'asst_9ClY18CzRXIW9Dy807YeaNPF',\n",
       "   'content': [{'text': {'annotations': [],\n",
       "      'value': 'The filtered data includes information for Switzerland and the United Kingdom, specifically showing the \"GDP per capita, PPP (current international $)\" indicator. We can see GDP per capita values from 1960 through to 2022, although the actual data reporting starts from a later year as the earlier columns contain NaN (missing values).\\n\\nWould you like a specific analysis or summary of this data, such as trends over time, a comparison between the two countries, or perhaps statistical summaries for a particular range of years? Please let me know how you\\'d like to proceed.'},\n",
       "     'type': 'text'}],\n",
       "   'created_at': 1700139199,\n",
       "   'file_ids': [],\n",
       "   'metadata': {},\n",
       "   'object': 'thread.message',\n",
       "   'role': 'assistant',\n",
       "   'run_id': 'run_w31jwAn3dGyIa8tMPpWBEd2o',\n",
       "   'thread_id': 'thread_MjBrsnd8tW0mWErxGWQLA8Ca'},\n",
       "  {'id': 'msg_n9Hw9XIY8mYNmDZ2GFd4Bni0',\n",
       "   'assistant_id': 'asst_9ClY18CzRXIW9Dy807YeaNPF',\n",
       "   'content': [{'text': {'annotations': [],\n",
       "      'value': \"The data has been successfully loaded into a pandas DataFrame. Let's now filter the DataFrame to include only the data for Switzerland and the United Kingdom (UK). I will identify these entries based on their respective country names. Once filtered, I will provide a summary of their data for further analysis.\"},\n",
       "     'type': 'text'}],\n",
       "   'created_at': 1700139189,\n",
       "   'file_ids': [],\n",
       "   'metadata': {},\n",
       "   'object': 'thread.message',\n",
       "   'role': 'assistant',\n",
       "   'run_id': 'run_w31jwAn3dGyIa8tMPpWBEd2o',\n",
       "   'thread_id': 'thread_MjBrsnd8tW0mWErxGWQLA8Ca'},\n",
       "  {'id': 'msg_vGoguuWjOiw1j7QlxxNBzrXk',\n",
       "   'assistant_id': 'asst_9ClY18CzRXIW9Dy807YeaNPF',\n",
       "   'content': [{'text': {'annotations': [],\n",
       "      'value': 'The file appears to be a CSV format and contains a header row followed by rows of comma-separated values. Interestingly, we can already see entries related to countries and various economic indicators, such as \"GDP per capita, PPP (current international $)\". For such a structured CSV file, we could use pandas `read_csv` with the proper options. Let me try to load the data once again, this time making sure to handle any Unicode decoding issues (as suggested by the presence of \\'\\\\ufeff\\' at the start of the file) and starting from the first country-related row, which seems to be after the initial few lines of metadata.'},\n",
       "     'type': 'text'}],\n",
       "   'created_at': 1700139175,\n",
       "   'file_ids': [],\n",
       "   'metadata': {},\n",
       "   'object': 'thread.message',\n",
       "   'role': 'assistant',\n",
       "   'run_id': 'run_w31jwAn3dGyIa8tMPpWBEd2o',\n",
       "   'thread_id': 'thread_MjBrsnd8tW0mWErxGWQLA8Ca'},\n",
       "  {'id': 'msg_XdoVVtMwWhk6Bq3wF9PJxPRA',\n",
       "   'assistant_id': 'asst_9ClY18CzRXIW9Dy807YeaNPF',\n",
       "   'content': [{'text': {'annotations': [],\n",
       "      'value': \"It seems that there was an issue processing your file using both the Excel and CSV parsers. To further investigate the issue and determine the correct way to parse the content, I will now attempt to read the file using a generic text reader to examine the raw contents. This will help to identify the file format and structure. Let's proceed with that.\"},\n",
       "     'type': 'text'}],\n",
       "   'created_at': 1700139165,\n",
       "   'file_ids': [],\n",
       "   'metadata': {},\n",
       "   'object': 'thread.message',\n",
       "   'role': 'assistant',\n",
       "   'run_id': 'run_w31jwAn3dGyIa8tMPpWBEd2o',\n",
       "   'thread_id': 'thread_MjBrsnd8tW0mWErxGWQLA8Ca'},\n",
       "  {'id': 'msg_LD0yS6gtGIB01TYVcT5HHO7x',\n",
       "   'assistant_id': None,\n",
       "   'content': [{'text': {'annotations': [],\n",
       "      'value': 'Analyse the data for Switzerland and the UK. skip the first 4 rows when reading data in'},\n",
       "     'type': 'text'}],\n",
       "   'created_at': 1700139144,\n",
       "   'file_ids': ['file-zNbnuaQAtlv8GThQeOxTJnn3'],\n",
       "   'metadata': {},\n",
       "   'object': 'thread.message',\n",
       "   'role': 'user',\n",
       "   'run_id': None,\n",
       "   'thread_id': 'thread_MjBrsnd8tW0mWErxGWQLA8Ca'}],\n",
       " 'object': 'list',\n",
       " 'first_id': 'msg_xzhywYRBZ8X3Xl3MJM9A0IMP',\n",
       " 'last_id': 'msg_LD0yS6gtGIB01TYVcT5HHO7x',\n",
       " 'has_more': False}"
      ]
     },
     "metadata": {},
     "output_type": "display_data"
    }
   ],
   "source": [
    "messages = client.beta.threads.messages.list(thread_id=thread.id)\n",
    "show_json(messages)"
   ]
  },
  {
   "cell_type": "code",
   "execution_count": 10,
   "metadata": {},
   "outputs": [
    {
     "name": "stdout",
     "output_type": "stream",
     "text": [
      "# Messages\n",
      "user: Analyse the data for Switzerland and the UK. skip the first 4 rows when reading data in\n",
      "assistant: It seems that there was an issue processing your file using both the Excel and CSV parsers. To further investigate the issue and determine the correct way to parse the content, I will now attempt to read the file using a generic text reader to examine the raw contents. This will help to identify the file format and structure. Let's proceed with that.\n",
      "assistant: The file appears to be a CSV format and contains a header row followed by rows of comma-separated values. Interestingly, we can already see entries related to countries and various economic indicators, such as \"GDP per capita, PPP (current international $)\". For such a structured CSV file, we could use pandas `read_csv` with the proper options. Let me try to load the data once again, this time making sure to handle any Unicode decoding issues (as suggested by the presence of '\\ufeff' at the start of the file) and starting from the first country-related row, which seems to be after the initial few lines of metadata.\n",
      "assistant: The data has been successfully loaded into a pandas DataFrame. Let's now filter the DataFrame to include only the data for Switzerland and the United Kingdom (UK). I will identify these entries based on their respective country names. Once filtered, I will provide a summary of their data for further analysis.\n",
      "assistant: The filtered data includes information for Switzerland and the United Kingdom, specifically showing the \"GDP per capita, PPP (current international $)\" indicator. We can see GDP per capita values from 1960 through to 2022, although the actual data reporting starts from a later year as the earlier columns contain NaN (missing values).\n",
      "\n",
      "Would you like a specific analysis or summary of this data, such as trends over time, a comparison between the two countries, or perhaps statistical summaries for a particular range of years? Please let me know how you'd like to proceed.\n",
      "\n"
     ]
    }
   ],
   "source": [
    "pretty_print(get_response(thread))"
   ]
  },
  {
   "cell_type": "markdown",
   "metadata": {},
   "source": [
    "#### Add further instructions"
   ]
  },
  {
   "cell_type": "code",
   "execution_count": 11,
   "metadata": {},
   "outputs": [],
   "source": [
    "message = client.beta.threads.messages.create(\n",
    "      thread_id=thread.id,\n",
    "      role = \"user\",\n",
    "      content = \"Calculate annual average growth in GDP per capita for the UK and Switzerland for each decade from 1900 to 2020\",\n",
    "      file_ids= [file.id]\n",
    ")"
   ]
  },
  {
   "cell_type": "code",
   "execution_count": 12,
   "metadata": {},
   "outputs": [],
   "source": [
    "run = client.beta.threads.runs.create(\n",
    "  thread_id=thread.id,\n",
    "  assistant_id=assistant.id\n",
    ")"
   ]
  },
  {
   "cell_type": "code",
   "execution_count": 13,
   "metadata": {},
   "outputs": [
    {
     "data": {
      "text/plain": [
       "{'data': [{'id': 'msg_tGnk9JhcvxB0TxQdzX7NQl79',\n",
       "   'assistant_id': 'asst_9ClY18CzRXIW9Dy807YeaNPF',\n",
       "   'content': [{'text': {'annotations': [],\n",
       "      'value': 'There was an error in the calculation due to a mismatch between the expected column labels and those present in the data. It seems I attempted to access a year, \"2029\", which is beyond the range of the data provided. Since the data only goes up to 2022, I will adjust the calculation to consider this and will compute the average annual growth rates for the complete decades that we have data for, namely the 1960s through the 2010s.\\n\\nLet me correct this and recalculate the growth rates.'},\n",
       "     'type': 'text'}],\n",
       "   'created_at': 1700139270,\n",
       "   'file_ids': [],\n",
       "   'metadata': {},\n",
       "   'object': 'thread.message',\n",
       "   'role': 'assistant',\n",
       "   'run_id': 'run_TzsrrPyhzS6SaKqFmGjpMRlG',\n",
       "   'thread_id': 'thread_MjBrsnd8tW0mWErxGWQLA8Ca'},\n",
       "  {'id': 'msg_Zke35z9Xdc10OZcaoa14lxPg',\n",
       "   'assistant_id': 'asst_9ClY18CzRXIW9Dy807YeaNPF',\n",
       "   'content': [{'text': {'annotations': [],\n",
       "      'value': \"To calculate the average annual growth in GDP per capita for each decade from 1960 to 2020, we'll have to use the data that we've already loaded, as the dataset provided does not go back to 1900. We'll calculate the average annual growth rates for each decade for the UK and Switzerland by using the formula:\\n\\n\\\\[\\n\\\\text{Average Annual Growth Rate} = \\\\left( \\\\frac{\\\\text{GDP}_{\\\\text{end of decade}}}{\\\\text{GDP}_{\\\\text{start of decade}}} \\\\right)^{\\\\frac{1}{10}} - 1\\n\\\\]\\n\\nThis will give us the compounded annual growth rate for each decade. We'll then repeat this for each decade from the 1960s through the 2010s.\\n\\nLet's perform this analysis.\"},\n",
       "     'type': 'text'}],\n",
       "   'created_at': 1700139243,\n",
       "   'file_ids': [],\n",
       "   'metadata': {},\n",
       "   'object': 'thread.message',\n",
       "   'role': 'assistant',\n",
       "   'run_id': 'run_TzsrrPyhzS6SaKqFmGjpMRlG',\n",
       "   'thread_id': 'thread_MjBrsnd8tW0mWErxGWQLA8Ca'},\n",
       "  {'id': 'msg_FnaeD9urXbZc7SIV3gSRzc90',\n",
       "   'assistant_id': None,\n",
       "   'content': [{'text': {'annotations': [],\n",
       "      'value': 'Calculate annual average growth in GDP per capita for the UK and Switzerland for each decade from 1900 to 2020'},\n",
       "     'type': 'text'}],\n",
       "   'created_at': 1700139240,\n",
       "   'file_ids': ['file-zNbnuaQAtlv8GThQeOxTJnn3'],\n",
       "   'metadata': {},\n",
       "   'object': 'thread.message',\n",
       "   'role': 'user',\n",
       "   'run_id': None,\n",
       "   'thread_id': 'thread_MjBrsnd8tW0mWErxGWQLA8Ca'},\n",
       "  {'id': 'msg_xzhywYRBZ8X3Xl3MJM9A0IMP',\n",
       "   'assistant_id': 'asst_9ClY18CzRXIW9Dy807YeaNPF',\n",
       "   'content': [{'text': {'annotations': [],\n",
       "      'value': 'The filtered data includes information for Switzerland and the United Kingdom, specifically showing the \"GDP per capita, PPP (current international $)\" indicator. We can see GDP per capita values from 1960 through to 2022, although the actual data reporting starts from a later year as the earlier columns contain NaN (missing values).\\n\\nWould you like a specific analysis or summary of this data, such as trends over time, a comparison between the two countries, or perhaps statistical summaries for a particular range of years? Please let me know how you\\'d like to proceed.'},\n",
       "     'type': 'text'}],\n",
       "   'created_at': 1700139199,\n",
       "   'file_ids': [],\n",
       "   'metadata': {},\n",
       "   'object': 'thread.message',\n",
       "   'role': 'assistant',\n",
       "   'run_id': 'run_w31jwAn3dGyIa8tMPpWBEd2o',\n",
       "   'thread_id': 'thread_MjBrsnd8tW0mWErxGWQLA8Ca'},\n",
       "  {'id': 'msg_n9Hw9XIY8mYNmDZ2GFd4Bni0',\n",
       "   'assistant_id': 'asst_9ClY18CzRXIW9Dy807YeaNPF',\n",
       "   'content': [{'text': {'annotations': [],\n",
       "      'value': \"The data has been successfully loaded into a pandas DataFrame. Let's now filter the DataFrame to include only the data for Switzerland and the United Kingdom (UK). I will identify these entries based on their respective country names. Once filtered, I will provide a summary of their data for further analysis.\"},\n",
       "     'type': 'text'}],\n",
       "   'created_at': 1700139189,\n",
       "   'file_ids': [],\n",
       "   'metadata': {},\n",
       "   'object': 'thread.message',\n",
       "   'role': 'assistant',\n",
       "   'run_id': 'run_w31jwAn3dGyIa8tMPpWBEd2o',\n",
       "   'thread_id': 'thread_MjBrsnd8tW0mWErxGWQLA8Ca'},\n",
       "  {'id': 'msg_vGoguuWjOiw1j7QlxxNBzrXk',\n",
       "   'assistant_id': 'asst_9ClY18CzRXIW9Dy807YeaNPF',\n",
       "   'content': [{'text': {'annotations': [],\n",
       "      'value': 'The file appears to be a CSV format and contains a header row followed by rows of comma-separated values. Interestingly, we can already see entries related to countries and various economic indicators, such as \"GDP per capita, PPP (current international $)\". For such a structured CSV file, we could use pandas `read_csv` with the proper options. Let me try to load the data once again, this time making sure to handle any Unicode decoding issues (as suggested by the presence of \\'\\\\ufeff\\' at the start of the file) and starting from the first country-related row, which seems to be after the initial few lines of metadata.'},\n",
       "     'type': 'text'}],\n",
       "   'created_at': 1700139175,\n",
       "   'file_ids': [],\n",
       "   'metadata': {},\n",
       "   'object': 'thread.message',\n",
       "   'role': 'assistant',\n",
       "   'run_id': 'run_w31jwAn3dGyIa8tMPpWBEd2o',\n",
       "   'thread_id': 'thread_MjBrsnd8tW0mWErxGWQLA8Ca'},\n",
       "  {'id': 'msg_XdoVVtMwWhk6Bq3wF9PJxPRA',\n",
       "   'assistant_id': 'asst_9ClY18CzRXIW9Dy807YeaNPF',\n",
       "   'content': [{'text': {'annotations': [],\n",
       "      'value': \"It seems that there was an issue processing your file using both the Excel and CSV parsers. To further investigate the issue and determine the correct way to parse the content, I will now attempt to read the file using a generic text reader to examine the raw contents. This will help to identify the file format and structure. Let's proceed with that.\"},\n",
       "     'type': 'text'}],\n",
       "   'created_at': 1700139165,\n",
       "   'file_ids': [],\n",
       "   'metadata': {},\n",
       "   'object': 'thread.message',\n",
       "   'role': 'assistant',\n",
       "   'run_id': 'run_w31jwAn3dGyIa8tMPpWBEd2o',\n",
       "   'thread_id': 'thread_MjBrsnd8tW0mWErxGWQLA8Ca'},\n",
       "  {'id': 'msg_LD0yS6gtGIB01TYVcT5HHO7x',\n",
       "   'assistant_id': None,\n",
       "   'content': [{'text': {'annotations': [],\n",
       "      'value': 'Analyse the data for Switzerland and the UK. skip the first 4 rows when reading data in'},\n",
       "     'type': 'text'}],\n",
       "   'created_at': 1700139144,\n",
       "   'file_ids': ['file-zNbnuaQAtlv8GThQeOxTJnn3'],\n",
       "   'metadata': {},\n",
       "   'object': 'thread.message',\n",
       "   'role': 'user',\n",
       "   'run_id': None,\n",
       "   'thread_id': 'thread_MjBrsnd8tW0mWErxGWQLA8Ca'}],\n",
       " 'object': 'list',\n",
       " 'first_id': 'msg_tGnk9JhcvxB0TxQdzX7NQl79',\n",
       " 'last_id': 'msg_LD0yS6gtGIB01TYVcT5HHO7x',\n",
       " 'has_more': False}"
      ]
     },
     "metadata": {},
     "output_type": "display_data"
    }
   ],
   "source": [
    "messages = client.beta.threads.messages.list(thread_id=thread.id)\n",
    "show_json(messages)"
   ]
  },
  {
   "cell_type": "code",
   "execution_count": 14,
   "metadata": {},
   "outputs": [
    {
     "name": "stdout",
     "output_type": "stream",
     "text": [
      "# Messages\n",
      "user: Analyse the data for Switzerland and the UK. skip the first 4 rows when reading data in\n",
      "assistant: It seems that there was an issue processing your file using both the Excel and CSV parsers. To further investigate the issue and determine the correct way to parse the content, I will now attempt to read the file using a generic text reader to examine the raw contents. This will help to identify the file format and structure. Let's proceed with that.\n",
      "assistant: The file appears to be a CSV format and contains a header row followed by rows of comma-separated values. Interestingly, we can already see entries related to countries and various economic indicators, such as \"GDP per capita, PPP (current international $)\". For such a structured CSV file, we could use pandas `read_csv` with the proper options. Let me try to load the data once again, this time making sure to handle any Unicode decoding issues (as suggested by the presence of '\\ufeff' at the start of the file) and starting from the first country-related row, which seems to be after the initial few lines of metadata.\n",
      "assistant: The data has been successfully loaded into a pandas DataFrame. Let's now filter the DataFrame to include only the data for Switzerland and the United Kingdom (UK). I will identify these entries based on their respective country names. Once filtered, I will provide a summary of their data for further analysis.\n",
      "assistant: The filtered data includes information for Switzerland and the United Kingdom, specifically showing the \"GDP per capita, PPP (current international $)\" indicator. We can see GDP per capita values from 1960 through to 2022, although the actual data reporting starts from a later year as the earlier columns contain NaN (missing values).\n",
      "\n",
      "Would you like a specific analysis or summary of this data, such as trends over time, a comparison between the two countries, or perhaps statistical summaries for a particular range of years? Please let me know how you'd like to proceed.\n",
      "user: Calculate annual average growth in GDP per capita for the UK and Switzerland for each decade from 1900 to 2020\n",
      "assistant: To calculate the average annual growth in GDP per capita for each decade from 1960 to 2020, we'll have to use the data that we've already loaded, as the dataset provided does not go back to 1900. We'll calculate the average annual growth rates for each decade for the UK and Switzerland by using the formula:\n",
      "\n",
      "\\[\n",
      "\\text{Average Annual Growth Rate} = \\left( \\frac{\\text{GDP}_{\\text{end of decade}}}{\\text{GDP}_{\\text{start of decade}}} \\right)^{\\frac{1}{10}} - 1\n",
      "\\]\n",
      "\n",
      "This will give us the compounded annual growth rate for each decade. We'll then repeat this for each decade from the 1960s through the 2010s.\n",
      "\n",
      "Let's perform this analysis.\n",
      "assistant: There was an error in the calculation due to a mismatch between the expected column labels and those present in the data. It seems I attempted to access a year, \"2029\", which is beyond the range of the data provided. Since the data only goes up to 2022, I will adjust the calculation to consider this and will compute the average annual growth rates for the complete decades that we have data for, namely the 1960s through the 2010s.\n",
      "\n",
      "Let me correct this and recalculate the growth rates.\n",
      "assistant: Here are the calculated average annual growth rates of GDP per capita in percentage for Switzerland and the United Kingdom for the decades where we have complete data:\n",
      "\n",
      "- **1990s**:\n",
      "  - Switzerland: 2.01%\n",
      "  - United Kingdom: 3.67%\n",
      "\n",
      "- **2000s**:\n",
      "  - Switzerland: 3.74%\n",
      "  - United Kingdom: 2.83%\n",
      "\n",
      "- **2010s**:\n",
      "  - Switzerland: 2.93%\n",
      "  - United Kingdom: 3.03%\n",
      "\n",
      "Please note that the data from before 1990 was incomplete, with missing values that prevented the calculation of reliable growth rates. These are average compounded growth rates per decade. If you need further analysis or have any questions, feel free to let me know.\n",
      "\n"
     ]
    }
   ],
   "source": [
    "pretty_print(get_response(thread))"
   ]
  },
  {
   "cell_type": "code",
   "execution_count": 15,
   "metadata": {},
   "outputs": [
    {
     "data": {
      "text/plain": [
       "{'data': [{'id': 'msg_hrBvI0tFoWgUDq4k5dnlfZi0',\n",
       "   'assistant_id': None,\n",
       "   'content': [{'text': {'annotations': [],\n",
       "      'value': 'Plot a chart of GDP per Capita over time for Switzerland and the UK'},\n",
       "     'type': 'text'}],\n",
       "   'created_at': 1700139348,\n",
       "   'file_ids': ['file-zNbnuaQAtlv8GThQeOxTJnn3'],\n",
       "   'metadata': {},\n",
       "   'object': 'thread.message',\n",
       "   'role': 'user',\n",
       "   'run_id': None,\n",
       "   'thread_id': 'thread_MjBrsnd8tW0mWErxGWQLA8Ca'},\n",
       "  {'id': 'msg_e4N5IZPiJMxf1k55Z6UonWWe',\n",
       "   'assistant_id': 'asst_9ClY18CzRXIW9Dy807YeaNPF',\n",
       "   'content': [{'text': {'annotations': [],\n",
       "      'value': 'Here are the calculated average annual growth rates of GDP per capita in percentage for Switzerland and the United Kingdom for the decades where we have complete data:\\n\\n- **1990s**:\\n  - Switzerland: 2.01%\\n  - United Kingdom: 3.67%\\n\\n- **2000s**:\\n  - Switzerland: 3.74%\\n  - United Kingdom: 2.83%\\n\\n- **2010s**:\\n  - Switzerland: 2.93%\\n  - United Kingdom: 3.03%\\n\\nPlease note that the data from before 1990 was incomplete, with missing values that prevented the calculation of reliable growth rates. These are average compounded growth rates per decade. If you need further analysis or have any questions, feel free to let me know.'},\n",
       "     'type': 'text'}],\n",
       "   'created_at': 1700139293,\n",
       "   'file_ids': [],\n",
       "   'metadata': {},\n",
       "   'object': 'thread.message',\n",
       "   'role': 'assistant',\n",
       "   'run_id': 'run_TzsrrPyhzS6SaKqFmGjpMRlG',\n",
       "   'thread_id': 'thread_MjBrsnd8tW0mWErxGWQLA8Ca'},\n",
       "  {'id': 'msg_tGnk9JhcvxB0TxQdzX7NQl79',\n",
       "   'assistant_id': 'asst_9ClY18CzRXIW9Dy807YeaNPF',\n",
       "   'content': [{'text': {'annotations': [],\n",
       "      'value': 'There was an error in the calculation due to a mismatch between the expected column labels and those present in the data. It seems I attempted to access a year, \"2029\", which is beyond the range of the data provided. Since the data only goes up to 2022, I will adjust the calculation to consider this and will compute the average annual growth rates for the complete decades that we have data for, namely the 1960s through the 2010s.\\n\\nLet me correct this and recalculate the growth rates.'},\n",
       "     'type': 'text'}],\n",
       "   'created_at': 1700139270,\n",
       "   'file_ids': [],\n",
       "   'metadata': {},\n",
       "   'object': 'thread.message',\n",
       "   'role': 'assistant',\n",
       "   'run_id': 'run_TzsrrPyhzS6SaKqFmGjpMRlG',\n",
       "   'thread_id': 'thread_MjBrsnd8tW0mWErxGWQLA8Ca'},\n",
       "  {'id': 'msg_Zke35z9Xdc10OZcaoa14lxPg',\n",
       "   'assistant_id': 'asst_9ClY18CzRXIW9Dy807YeaNPF',\n",
       "   'content': [{'text': {'annotations': [],\n",
       "      'value': \"To calculate the average annual growth in GDP per capita for each decade from 1960 to 2020, we'll have to use the data that we've already loaded, as the dataset provided does not go back to 1900. We'll calculate the average annual growth rates for each decade for the UK and Switzerland by using the formula:\\n\\n\\\\[\\n\\\\text{Average Annual Growth Rate} = \\\\left( \\\\frac{\\\\text{GDP}_{\\\\text{end of decade}}}{\\\\text{GDP}_{\\\\text{start of decade}}} \\\\right)^{\\\\frac{1}{10}} - 1\\n\\\\]\\n\\nThis will give us the compounded annual growth rate for each decade. We'll then repeat this for each decade from the 1960s through the 2010s.\\n\\nLet's perform this analysis.\"},\n",
       "     'type': 'text'}],\n",
       "   'created_at': 1700139243,\n",
       "   'file_ids': [],\n",
       "   'metadata': {},\n",
       "   'object': 'thread.message',\n",
       "   'role': 'assistant',\n",
       "   'run_id': 'run_TzsrrPyhzS6SaKqFmGjpMRlG',\n",
       "   'thread_id': 'thread_MjBrsnd8tW0mWErxGWQLA8Ca'},\n",
       "  {'id': 'msg_FnaeD9urXbZc7SIV3gSRzc90',\n",
       "   'assistant_id': None,\n",
       "   'content': [{'text': {'annotations': [],\n",
       "      'value': 'Calculate annual average growth in GDP per capita for the UK and Switzerland for each decade from 1900 to 2020'},\n",
       "     'type': 'text'}],\n",
       "   'created_at': 1700139240,\n",
       "   'file_ids': ['file-zNbnuaQAtlv8GThQeOxTJnn3'],\n",
       "   'metadata': {},\n",
       "   'object': 'thread.message',\n",
       "   'role': 'user',\n",
       "   'run_id': None,\n",
       "   'thread_id': 'thread_MjBrsnd8tW0mWErxGWQLA8Ca'},\n",
       "  {'id': 'msg_xzhywYRBZ8X3Xl3MJM9A0IMP',\n",
       "   'assistant_id': 'asst_9ClY18CzRXIW9Dy807YeaNPF',\n",
       "   'content': [{'text': {'annotations': [],\n",
       "      'value': 'The filtered data includes information for Switzerland and the United Kingdom, specifically showing the \"GDP per capita, PPP (current international $)\" indicator. We can see GDP per capita values from 1960 through to 2022, although the actual data reporting starts from a later year as the earlier columns contain NaN (missing values).\\n\\nWould you like a specific analysis or summary of this data, such as trends over time, a comparison between the two countries, or perhaps statistical summaries for a particular range of years? Please let me know how you\\'d like to proceed.'},\n",
       "     'type': 'text'}],\n",
       "   'created_at': 1700139199,\n",
       "   'file_ids': [],\n",
       "   'metadata': {},\n",
       "   'object': 'thread.message',\n",
       "   'role': 'assistant',\n",
       "   'run_id': 'run_w31jwAn3dGyIa8tMPpWBEd2o',\n",
       "   'thread_id': 'thread_MjBrsnd8tW0mWErxGWQLA8Ca'},\n",
       "  {'id': 'msg_n9Hw9XIY8mYNmDZ2GFd4Bni0',\n",
       "   'assistant_id': 'asst_9ClY18CzRXIW9Dy807YeaNPF',\n",
       "   'content': [{'text': {'annotations': [],\n",
       "      'value': \"The data has been successfully loaded into a pandas DataFrame. Let's now filter the DataFrame to include only the data for Switzerland and the United Kingdom (UK). I will identify these entries based on their respective country names. Once filtered, I will provide a summary of their data for further analysis.\"},\n",
       "     'type': 'text'}],\n",
       "   'created_at': 1700139189,\n",
       "   'file_ids': [],\n",
       "   'metadata': {},\n",
       "   'object': 'thread.message',\n",
       "   'role': 'assistant',\n",
       "   'run_id': 'run_w31jwAn3dGyIa8tMPpWBEd2o',\n",
       "   'thread_id': 'thread_MjBrsnd8tW0mWErxGWQLA8Ca'},\n",
       "  {'id': 'msg_vGoguuWjOiw1j7QlxxNBzrXk',\n",
       "   'assistant_id': 'asst_9ClY18CzRXIW9Dy807YeaNPF',\n",
       "   'content': [{'text': {'annotations': [],\n",
       "      'value': 'The file appears to be a CSV format and contains a header row followed by rows of comma-separated values. Interestingly, we can already see entries related to countries and various economic indicators, such as \"GDP per capita, PPP (current international $)\". For such a structured CSV file, we could use pandas `read_csv` with the proper options. Let me try to load the data once again, this time making sure to handle any Unicode decoding issues (as suggested by the presence of \\'\\\\ufeff\\' at the start of the file) and starting from the first country-related row, which seems to be after the initial few lines of metadata.'},\n",
       "     'type': 'text'}],\n",
       "   'created_at': 1700139175,\n",
       "   'file_ids': [],\n",
       "   'metadata': {},\n",
       "   'object': 'thread.message',\n",
       "   'role': 'assistant',\n",
       "   'run_id': 'run_w31jwAn3dGyIa8tMPpWBEd2o',\n",
       "   'thread_id': 'thread_MjBrsnd8tW0mWErxGWQLA8Ca'},\n",
       "  {'id': 'msg_XdoVVtMwWhk6Bq3wF9PJxPRA',\n",
       "   'assistant_id': 'asst_9ClY18CzRXIW9Dy807YeaNPF',\n",
       "   'content': [{'text': {'annotations': [],\n",
       "      'value': \"It seems that there was an issue processing your file using both the Excel and CSV parsers. To further investigate the issue and determine the correct way to parse the content, I will now attempt to read the file using a generic text reader to examine the raw contents. This will help to identify the file format and structure. Let's proceed with that.\"},\n",
       "     'type': 'text'}],\n",
       "   'created_at': 1700139165,\n",
       "   'file_ids': [],\n",
       "   'metadata': {},\n",
       "   'object': 'thread.message',\n",
       "   'role': 'assistant',\n",
       "   'run_id': 'run_w31jwAn3dGyIa8tMPpWBEd2o',\n",
       "   'thread_id': 'thread_MjBrsnd8tW0mWErxGWQLA8Ca'},\n",
       "  {'id': 'msg_LD0yS6gtGIB01TYVcT5HHO7x',\n",
       "   'assistant_id': None,\n",
       "   'content': [{'text': {'annotations': [],\n",
       "      'value': 'Analyse the data for Switzerland and the UK. skip the first 4 rows when reading data in'},\n",
       "     'type': 'text'}],\n",
       "   'created_at': 1700139144,\n",
       "   'file_ids': ['file-zNbnuaQAtlv8GThQeOxTJnn3'],\n",
       "   'metadata': {},\n",
       "   'object': 'thread.message',\n",
       "   'role': 'user',\n",
       "   'run_id': None,\n",
       "   'thread_id': 'thread_MjBrsnd8tW0mWErxGWQLA8Ca'}],\n",
       " 'object': 'list',\n",
       " 'first_id': 'msg_hrBvI0tFoWgUDq4k5dnlfZi0',\n",
       " 'last_id': 'msg_LD0yS6gtGIB01TYVcT5HHO7x',\n",
       " 'has_more': False}"
      ]
     },
     "metadata": {},
     "output_type": "display_data"
    }
   ],
   "source": [
    "message = client.beta.threads.messages.create(\n",
    "      thread_id=thread.id,\n",
    "      role = \"user\",\n",
    "      content = \"Plot a chart of GDP per Capita over time for Switzerland and the UK\",\n",
    "      file_ids= [file.id]\n",
    ")\n",
    "run = client.beta.threads.runs.create(\n",
    "  thread_id=thread.id,\n",
    "  assistant_id=assistant.id\n",
    ")\n",
    "messages = client.beta.threads.messages.list(thread_id=thread.id)\n",
    "show_json(messages)"
   ]
  },
  {
   "cell_type": "markdown",
   "metadata": {},
   "source": [
    "#### Extracting images\n",
    "1. Find the messages containing an image\n",
    "2. extract the filename\n",
    "3. Decode and save that image"
   ]
  },
  {
   "cell_type": "code",
   "execution_count": 16,
   "metadata": {},
   "outputs": [
    {
     "name": "stdout",
     "output_type": "stream",
     "text": [
      "[MessageContentText(text=Text(annotations=[], value='Analyse the data for Switzerland and the UK. skip the first 4 rows when reading data in'), type='text')]\n",
      "[MessageContentText(text=Text(annotations=[], value=\"It seems that there was an issue processing your file using both the Excel and CSV parsers. To further investigate the issue and determine the correct way to parse the content, I will now attempt to read the file using a generic text reader to examine the raw contents. This will help to identify the file format and structure. Let's proceed with that.\"), type='text')]\n",
      "[MessageContentText(text=Text(annotations=[], value='The file appears to be a CSV format and contains a header row followed by rows of comma-separated values. Interestingly, we can already see entries related to countries and various economic indicators, such as \"GDP per capita, PPP (current international $)\". For such a structured CSV file, we could use pandas `read_csv` with the proper options. Let me try to load the data once again, this time making sure to handle any Unicode decoding issues (as suggested by the presence of \\'\\\\ufeff\\' at the start of the file) and starting from the first country-related row, which seems to be after the initial few lines of metadata.'), type='text')]\n",
      "[MessageContentText(text=Text(annotations=[], value=\"The data has been successfully loaded into a pandas DataFrame. Let's now filter the DataFrame to include only the data for Switzerland and the United Kingdom (UK). I will identify these entries based on their respective country names. Once filtered, I will provide a summary of their data for further analysis.\"), type='text')]\n",
      "[MessageContentText(text=Text(annotations=[], value='The filtered data includes information for Switzerland and the United Kingdom, specifically showing the \"GDP per capita, PPP (current international $)\" indicator. We can see GDP per capita values from 1960 through to 2022, although the actual data reporting starts from a later year as the earlier columns contain NaN (missing values).\\n\\nWould you like a specific analysis or summary of this data, such as trends over time, a comparison between the two countries, or perhaps statistical summaries for a particular range of years? Please let me know how you\\'d like to proceed.'), type='text')]\n",
      "[MessageContentText(text=Text(annotations=[], value='Calculate annual average growth in GDP per capita for the UK and Switzerland for each decade from 1900 to 2020'), type='text')]\n",
      "[MessageContentText(text=Text(annotations=[], value=\"To calculate the average annual growth in GDP per capita for each decade from 1960 to 2020, we'll have to use the data that we've already loaded, as the dataset provided does not go back to 1900. We'll calculate the average annual growth rates for each decade for the UK and Switzerland by using the formula:\\n\\n\\\\[\\n\\\\text{Average Annual Growth Rate} = \\\\left( \\\\frac{\\\\text{GDP}_{\\\\text{end of decade}}}{\\\\text{GDP}_{\\\\text{start of decade}}} \\\\right)^{\\\\frac{1}{10}} - 1\\n\\\\]\\n\\nThis will give us the compounded annual growth rate for each decade. We'll then repeat this for each decade from the 1960s through the 2010s.\\n\\nLet's perform this analysis.\"), type='text')]\n",
      "[MessageContentText(text=Text(annotations=[], value='There was an error in the calculation due to a mismatch between the expected column labels and those present in the data. It seems I attempted to access a year, \"2029\", which is beyond the range of the data provided. Since the data only goes up to 2022, I will adjust the calculation to consider this and will compute the average annual growth rates for the complete decades that we have data for, namely the 1960s through the 2010s.\\n\\nLet me correct this and recalculate the growth rates.'), type='text')]\n",
      "[MessageContentText(text=Text(annotations=[], value='Here are the calculated average annual growth rates of GDP per capita in percentage for Switzerland and the United Kingdom for the decades where we have complete data:\\n\\n- **1990s**:\\n  - Switzerland: 2.01%\\n  - United Kingdom: 3.67%\\n\\n- **2000s**:\\n  - Switzerland: 3.74%\\n  - United Kingdom: 2.83%\\n\\n- **2010s**:\\n  - Switzerland: 2.93%\\n  - United Kingdom: 3.03%\\n\\nPlease note that the data from before 1990 was incomplete, with missing values that prevented the calculation of reliable growth rates. These are average compounded growth rates per decade. If you need further analysis or have any questions, feel free to let me know.'), type='text')]\n",
      "[MessageContentText(text=Text(annotations=[], value='Plot a chart of GDP per Capita over time for Switzerland and the UK'), type='text')]\n",
      "[MessageContentImageFile(image_file=ImageFile(file_id='file-Bz3Wb1Gf2LSHvtsDJiUztUHQ'), type='image_file'), MessageContentText(text=Text(annotations=[], value='Here is the chart depicting the GDP per capita over time for Switzerland and the United Kingdom. You can observe the trends in the GDP per capita of both countries as it has evolved throughout the years available in the dataset. If you have any further requests or need additional information, please let me know!'), type='text')]\n"
     ]
    }
   ],
   "source": [
    "messages = client.beta.threads.messages.list(thread_id=thread.id, order=\"asc\")\n",
    "for m in messages:\n",
    "    print(m.content)"
   ]
  },
  {
   "cell_type": "code",
   "execution_count": 17,
   "metadata": {},
   "outputs": [
    {
     "name": "stdout",
     "output_type": "stream",
     "text": [
      "file-Bz3Wb1Gf2LSHvtsDJiUztUHQ\n"
     ]
    }
   ],
   "source": [
    "file_name = m.content[-2].image_file.file_id\n",
    "print(m.content[-2].image_file.file_id)"
   ]
  },
  {
   "cell_type": "code",
   "execution_count": 18,
   "metadata": {},
   "outputs": [],
   "source": [
    "save_images(file_name,\"ch_uk_gdp_per_capita\")"
   ]
  },
  {
   "cell_type": "markdown",
   "metadata": {},
   "source": [
    "#### Add further instructions - Generate forecasts"
   ]
  },
  {
   "cell_type": "code",
   "execution_count": 19,
   "metadata": {},
   "outputs": [],
   "source": [
    "message = client.beta.threads.messages.create(\n",
    "      thread_id=thread.id,\n",
    "      role = \"user\",\n",
    "      content = \"“Forecast GDP per Capita growth rates for the next five years\",\n",
    "      file_ids= [file.id]\n",
    ")\n",
    "run = client.beta.threads.runs.create(\n",
    "  thread_id=thread.id,\n",
    "  assistant_id=assistant.id\n",
    ")\n",
    "messages = client.beta.threads.messages.list(thread_id=thread.id)"
   ]
  },
  {
   "cell_type": "code",
   "execution_count": 25,
   "metadata": {},
   "outputs": [
    {
     "name": "stdout",
     "output_type": "stream",
     "text": [
      "[MessageContentText(text=Text(annotations=[], value='Analyse the data for Switzerland and the UK. skip the first 4 rows when reading data in'), type='text')]\n",
      "[MessageContentText(text=Text(annotations=[], value=\"It seems that there was an issue processing your file using both the Excel and CSV parsers. To further investigate the issue and determine the correct way to parse the content, I will now attempt to read the file using a generic text reader to examine the raw contents. This will help to identify the file format and structure. Let's proceed with that.\"), type='text')]\n",
      "[MessageContentText(text=Text(annotations=[], value='The file appears to be a CSV format and contains a header row followed by rows of comma-separated values. Interestingly, we can already see entries related to countries and various economic indicators, such as \"GDP per capita, PPP (current international $)\". For such a structured CSV file, we could use pandas `read_csv` with the proper options. Let me try to load the data once again, this time making sure to handle any Unicode decoding issues (as suggested by the presence of \\'\\\\ufeff\\' at the start of the file) and starting from the first country-related row, which seems to be after the initial few lines of metadata.'), type='text')]\n",
      "[MessageContentText(text=Text(annotations=[], value=\"The data has been successfully loaded into a pandas DataFrame. Let's now filter the DataFrame to include only the data for Switzerland and the United Kingdom (UK). I will identify these entries based on their respective country names. Once filtered, I will provide a summary of their data for further analysis.\"), type='text')]\n",
      "[MessageContentText(text=Text(annotations=[], value='The filtered data includes information for Switzerland and the United Kingdom, specifically showing the \"GDP per capita, PPP (current international $)\" indicator. We can see GDP per capita values from 1960 through to 2022, although the actual data reporting starts from a later year as the earlier columns contain NaN (missing values).\\n\\nWould you like a specific analysis or summary of this data, such as trends over time, a comparison between the two countries, or perhaps statistical summaries for a particular range of years? Please let me know how you\\'d like to proceed.'), type='text')]\n",
      "[MessageContentText(text=Text(annotations=[], value='Calculate annual average growth in GDP per capita for the UK and Switzerland for each decade from 1900 to 2020'), type='text')]\n",
      "[MessageContentText(text=Text(annotations=[], value=\"To calculate the average annual growth in GDP per capita for each decade from 1960 to 2020, we'll have to use the data that we've already loaded, as the dataset provided does not go back to 1900. We'll calculate the average annual growth rates for each decade for the UK and Switzerland by using the formula:\\n\\n\\\\[\\n\\\\text{Average Annual Growth Rate} = \\\\left( \\\\frac{\\\\text{GDP}_{\\\\text{end of decade}}}{\\\\text{GDP}_{\\\\text{start of decade}}} \\\\right)^{\\\\frac{1}{10}} - 1\\n\\\\]\\n\\nThis will give us the compounded annual growth rate for each decade. We'll then repeat this for each decade from the 1960s through the 2010s.\\n\\nLet's perform this analysis.\"), type='text')]\n",
      "[MessageContentText(text=Text(annotations=[], value='There was an error in the calculation due to a mismatch between the expected column labels and those present in the data. It seems I attempted to access a year, \"2029\", which is beyond the range of the data provided. Since the data only goes up to 2022, I will adjust the calculation to consider this and will compute the average annual growth rates for the complete decades that we have data for, namely the 1960s through the 2010s.\\n\\nLet me correct this and recalculate the growth rates.'), type='text')]\n",
      "[MessageContentText(text=Text(annotations=[], value='Here are the calculated average annual growth rates of GDP per capita in percentage for Switzerland and the United Kingdom for the decades where we have complete data:\\n\\n- **1990s**:\\n  - Switzerland: 2.01%\\n  - United Kingdom: 3.67%\\n\\n- **2000s**:\\n  - Switzerland: 3.74%\\n  - United Kingdom: 2.83%\\n\\n- **2010s**:\\n  - Switzerland: 2.93%\\n  - United Kingdom: 3.03%\\n\\nPlease note that the data from before 1990 was incomplete, with missing values that prevented the calculation of reliable growth rates. These are average compounded growth rates per decade. If you need further analysis or have any questions, feel free to let me know.'), type='text')]\n",
      "[MessageContentText(text=Text(annotations=[], value='Plot a chart of GDP per Capita over time for Switzerland and the UK'), type='text')]\n",
      "[MessageContentImageFile(image_file=ImageFile(file_id='file-Bz3Wb1Gf2LSHvtsDJiUztUHQ'), type='image_file'), MessageContentText(text=Text(annotations=[], value='Here is the chart depicting the GDP per capita over time for Switzerland and the United Kingdom. You can observe the trends in the GDP per capita of both countries as it has evolved throughout the years available in the dataset. If you have any further requests or need additional information, please let me know!'), type='text')]\n",
      "[MessageContentText(text=Text(annotations=[], value='“Forecast GDP per Capita growth rates for the next five years'), type='text')]\n",
      "[MessageContentText(text=Text(annotations=[], value=\"To forecast GDP per capita growth rates for the next five years, we can use time series forecasting methods. A simple approach would be to fit a linear regression model to the historical data, but more complex models like ARIMA are typically used for time-series forecasting due to their ability to handle trends, seasonality, and noise.\\n\\nGiven that this is a GDP growth forecast, which can be influenced by numerous unpredictable external factors, it's important to note that any forecast is highly speculative and should be treated with caution.\\n\\nLet's proceed with a basic linear regression model forecast for each country separately. I will use the data from the 1990s onwards, as the earlier data is incomplete. To keep it simple, I'll use a linear trend to predict the next five years. Should you be interested in more sophisticated methods or a different approach, please let me know.\"), type='text')]\n",
      "[MessageContentText(text=Text(annotations=[], value=\"There was an error due to attempting to concatenate an integer with a string while generating an array for the forecast years. I'll correct this by ensuring all year values are treated as integers during the calculations. Let me fix this issue and run the forecast again.\"), type='text')]\n",
      "[MessageContentText(text=Text(annotations=[], value=\"It seems I made an error by attempting to use the years (as integer indices) to directly access the values of the series. This is not the correct method because the indices of the series are the actual year labels (as strings) rather than the positional indices of the years.\\n\\nTo fix this, I will correctly use the years as labels to access the GDP per capita data and re-attempt the forecast calculation. Let's correct this and try once more.\"), type='text')]\n",
      "[MessageContentText(text=Text(annotations=[], value='The following table presents the forecasted annual GDP per capita growth rates for Switzerland and the United Kingdom for the next five years, based on a linear regression model:\\n\\n| Year | Switzerland Growth Rate (%) | United Kingdom Growth Rate (%) |\\n|------|-----------------------------|--------------------------------|\\n| 2023 |                      -6.78% |                          -4.56% |\\n| 2024 |                       2.03% |                           2.03% |\\n| 2025 |                       2.03% |                           2.03% |\\n| 2026 |                       2.03% |                           2.03% |\\n| 2027 |                       2.03% |                           2.03% |\\n\\nPlease note that the growth rates for the years 2024 to 2027 are forecasted to be constant, which is an artifact of using a simple linear regression model that does not account for potential fluctuations in economic growth rates over time. The initial negative growth rate for 2023 may reflect recent trends in the dataset or be an artifact of the linear regression model, which can be influenced by the final values in the historical data.\\n\\nThese forecasts should be interpreted with caution as the methodology is relatively simplistic, and real-world economic growth can be influenced by a wide array of complex factors not captured in this model.\\n\\nIf you have any additional questions or need further analysis, please let me know.'), type='text')]\n"
     ]
    }
   ],
   "source": [
    "messages = client.beta.threads.messages.list(thread_id=thread.id, order=\"asc\")\n",
    "for m in messages:\n",
    "    print(m.content)"
   ]
  },
  {
   "cell_type": "code",
   "execution_count": 26,
   "metadata": {},
   "outputs": [
    {
     "name": "stdout",
     "output_type": "stream",
     "text": [
      "# Messages\n",
      "user: Analyse the data for Switzerland and the UK. skip the first 4 rows when reading data in\n",
      "assistant: It seems that there was an issue processing your file using both the Excel and CSV parsers. To further investigate the issue and determine the correct way to parse the content, I will now attempt to read the file using a generic text reader to examine the raw contents. This will help to identify the file format and structure. Let's proceed with that.\n",
      "assistant: The file appears to be a CSV format and contains a header row followed by rows of comma-separated values. Interestingly, we can already see entries related to countries and various economic indicators, such as \"GDP per capita, PPP (current international $)\". For such a structured CSV file, we could use pandas `read_csv` with the proper options. Let me try to load the data once again, this time making sure to handle any Unicode decoding issues (as suggested by the presence of '\\ufeff' at the start of the file) and starting from the first country-related row, which seems to be after the initial few lines of metadata.\n",
      "assistant: The data has been successfully loaded into a pandas DataFrame. Let's now filter the DataFrame to include only the data for Switzerland and the United Kingdom (UK). I will identify these entries based on their respective country names. Once filtered, I will provide a summary of their data for further analysis.\n",
      "assistant: The filtered data includes information for Switzerland and the United Kingdom, specifically showing the \"GDP per capita, PPP (current international $)\" indicator. We can see GDP per capita values from 1960 through to 2022, although the actual data reporting starts from a later year as the earlier columns contain NaN (missing values).\n",
      "\n",
      "Would you like a specific analysis or summary of this data, such as trends over time, a comparison between the two countries, or perhaps statistical summaries for a particular range of years? Please let me know how you'd like to proceed.\n",
      "user: Calculate annual average growth in GDP per capita for the UK and Switzerland for each decade from 1900 to 2020\n",
      "assistant: To calculate the average annual growth in GDP per capita for each decade from 1960 to 2020, we'll have to use the data that we've already loaded, as the dataset provided does not go back to 1900. We'll calculate the average annual growth rates for each decade for the UK and Switzerland by using the formula:\n",
      "\n",
      "\\[\n",
      "\\text{Average Annual Growth Rate} = \\left( \\frac{\\text{GDP}_{\\text{end of decade}}}{\\text{GDP}_{\\text{start of decade}}} \\right)^{\\frac{1}{10}} - 1\n",
      "\\]\n",
      "\n",
      "This will give us the compounded annual growth rate for each decade. We'll then repeat this for each decade from the 1960s through the 2010s.\n",
      "\n",
      "Let's perform this analysis.\n",
      "assistant: There was an error in the calculation due to a mismatch between the expected column labels and those present in the data. It seems I attempted to access a year, \"2029\", which is beyond the range of the data provided. Since the data only goes up to 2022, I will adjust the calculation to consider this and will compute the average annual growth rates for the complete decades that we have data for, namely the 1960s through the 2010s.\n",
      "\n",
      "Let me correct this and recalculate the growth rates.\n",
      "assistant: Here are the calculated average annual growth rates of GDP per capita in percentage for Switzerland and the United Kingdom for the decades where we have complete data:\n",
      "\n",
      "- **1990s**:\n",
      "  - Switzerland: 2.01%\n",
      "  - United Kingdom: 3.67%\n",
      "\n",
      "- **2000s**:\n",
      "  - Switzerland: 3.74%\n",
      "  - United Kingdom: 2.83%\n",
      "\n",
      "- **2010s**:\n",
      "  - Switzerland: 2.93%\n",
      "  - United Kingdom: 3.03%\n",
      "\n",
      "Please note that the data from before 1990 was incomplete, with missing values that prevented the calculation of reliable growth rates. These are average compounded growth rates per decade. If you need further analysis or have any questions, feel free to let me know.\n",
      "user: Plot a chart of GDP per Capita over time for Switzerland and the UK\n",
      "user: “Forecast GDP per Capita growth rates for the next five years\n",
      "assistant: To forecast GDP per capita growth rates for the next five years, we can use time series forecasting methods. A simple approach would be to fit a linear regression model to the historical data, but more complex models like ARIMA are typically used for time-series forecasting due to their ability to handle trends, seasonality, and noise.\n",
      "\n",
      "Given that this is a GDP growth forecast, which can be influenced by numerous unpredictable external factors, it's important to note that any forecast is highly speculative and should be treated with caution.\n",
      "\n",
      "Let's proceed with a basic linear regression model forecast for each country separately. I will use the data from the 1990s onwards, as the earlier data is incomplete. To keep it simple, I'll use a linear trend to predict the next five years. Should you be interested in more sophisticated methods or a different approach, please let me know.\n",
      "assistant: There was an error due to attempting to concatenate an integer with a string while generating an array for the forecast years. I'll correct this by ensuring all year values are treated as integers during the calculations. Let me fix this issue and run the forecast again.\n",
      "assistant: It seems I made an error by attempting to use the years (as integer indices) to directly access the values of the series. This is not the correct method because the indices of the series are the actual year labels (as strings) rather than the positional indices of the years.\n",
      "\n",
      "To fix this, I will correctly use the years as labels to access the GDP per capita data and re-attempt the forecast calculation. Let's correct this and try once more.\n",
      "assistant: The following table presents the forecasted annual GDP per capita growth rates for Switzerland and the United Kingdom for the next five years, based on a linear regression model:\n",
      "\n",
      "| Year | Switzerland Growth Rate (%) | United Kingdom Growth Rate (%) |\n",
      "|------|-----------------------------|--------------------------------|\n",
      "| 2023 |                      -6.78% |                          -4.56% |\n",
      "| 2024 |                       2.03% |                           2.03% |\n",
      "| 2025 |                       2.03% |                           2.03% |\n",
      "| 2026 |                       2.03% |                           2.03% |\n",
      "| 2027 |                       2.03% |                           2.03% |\n",
      "\n",
      "Please note that the growth rates for the years 2024 to 2027 are forecasted to be constant, which is an artifact of using a simple linear regression model that does not account for potential fluctuations in economic growth rates over time. The initial negative growth rate for 2023 may reflect recent trends in the dataset or be an artifact of the linear regression model, which can be influenced by the final values in the historical data.\n",
      "\n",
      "These forecasts should be interpreted with caution as the methodology is relatively simplistic, and real-world economic growth can be influenced by a wide array of complex factors not captured in this model.\n",
      "\n",
      "If you have any additional questions or need further analysis, please let me know.\n",
      "\n"
     ]
    }
   ],
   "source": [
    "pretty_print(get_response(thread))"
   ]
  },
  {
   "cell_type": "code",
   "execution_count": 27,
   "metadata": {},
   "outputs": [],
   "source": [
    "message = client.beta.threads.messages.create(\n",
    "      thread_id=thread.id,\n",
    "      role = \"user\",\n",
    "      content = \"Plot charts showing the linear trend used to create the forecasts\",\n",
    "      file_ids= [file.id]\n",
    ")\n",
    "run = client.beta.threads.runs.create(\n",
    "  thread_id=thread.id,\n",
    "  assistant_id=assistant.id\n",
    ")\n",
    "messages = client.beta.threads.messages.list(thread_id=thread.id)"
   ]
  },
  {
   "cell_type": "code",
   "execution_count": 28,
   "metadata": {},
   "outputs": [
    {
     "name": "stdout",
     "output_type": "stream",
     "text": [
      "[MessageContentText(text=Text(annotations=[], value='Analyse the data for Switzerland and the UK. skip the first 4 rows when reading data in'), type='text')]\n",
      "[MessageContentText(text=Text(annotations=[], value=\"It seems that there was an issue processing your file using both the Excel and CSV parsers. To further investigate the issue and determine the correct way to parse the content, I will now attempt to read the file using a generic text reader to examine the raw contents. This will help to identify the file format and structure. Let's proceed with that.\"), type='text')]\n",
      "[MessageContentText(text=Text(annotations=[], value='The file appears to be a CSV format and contains a header row followed by rows of comma-separated values. Interestingly, we can already see entries related to countries and various economic indicators, such as \"GDP per capita, PPP (current international $)\". For such a structured CSV file, we could use pandas `read_csv` with the proper options. Let me try to load the data once again, this time making sure to handle any Unicode decoding issues (as suggested by the presence of \\'\\\\ufeff\\' at the start of the file) and starting from the first country-related row, which seems to be after the initial few lines of metadata.'), type='text')]\n",
      "[MessageContentText(text=Text(annotations=[], value=\"The data has been successfully loaded into a pandas DataFrame. Let's now filter the DataFrame to include only the data for Switzerland and the United Kingdom (UK). I will identify these entries based on their respective country names. Once filtered, I will provide a summary of their data for further analysis.\"), type='text')]\n",
      "[MessageContentText(text=Text(annotations=[], value='The filtered data includes information for Switzerland and the United Kingdom, specifically showing the \"GDP per capita, PPP (current international $)\" indicator. We can see GDP per capita values from 1960 through to 2022, although the actual data reporting starts from a later year as the earlier columns contain NaN (missing values).\\n\\nWould you like a specific analysis or summary of this data, such as trends over time, a comparison between the two countries, or perhaps statistical summaries for a particular range of years? Please let me know how you\\'d like to proceed.'), type='text')]\n",
      "[MessageContentText(text=Text(annotations=[], value='Calculate annual average growth in GDP per capita for the UK and Switzerland for each decade from 1900 to 2020'), type='text')]\n",
      "[MessageContentText(text=Text(annotations=[], value=\"To calculate the average annual growth in GDP per capita for each decade from 1960 to 2020, we'll have to use the data that we've already loaded, as the dataset provided does not go back to 1900. We'll calculate the average annual growth rates for each decade for the UK and Switzerland by using the formula:\\n\\n\\\\[\\n\\\\text{Average Annual Growth Rate} = \\\\left( \\\\frac{\\\\text{GDP}_{\\\\text{end of decade}}}{\\\\text{GDP}_{\\\\text{start of decade}}} \\\\right)^{\\\\frac{1}{10}} - 1\\n\\\\]\\n\\nThis will give us the compounded annual growth rate for each decade. We'll then repeat this for each decade from the 1960s through the 2010s.\\n\\nLet's perform this analysis.\"), type='text')]\n",
      "[MessageContentText(text=Text(annotations=[], value='There was an error in the calculation due to a mismatch between the expected column labels and those present in the data. It seems I attempted to access a year, \"2029\", which is beyond the range of the data provided. Since the data only goes up to 2022, I will adjust the calculation to consider this and will compute the average annual growth rates for the complete decades that we have data for, namely the 1960s through the 2010s.\\n\\nLet me correct this and recalculate the growth rates.'), type='text')]\n",
      "[MessageContentText(text=Text(annotations=[], value='Here are the calculated average annual growth rates of GDP per capita in percentage for Switzerland and the United Kingdom for the decades where we have complete data:\\n\\n- **1990s**:\\n  - Switzerland: 2.01%\\n  - United Kingdom: 3.67%\\n\\n- **2000s**:\\n  - Switzerland: 3.74%\\n  - United Kingdom: 2.83%\\n\\n- **2010s**:\\n  - Switzerland: 2.93%\\n  - United Kingdom: 3.03%\\n\\nPlease note that the data from before 1990 was incomplete, with missing values that prevented the calculation of reliable growth rates. These are average compounded growth rates per decade. If you need further analysis or have any questions, feel free to let me know.'), type='text')]\n",
      "[MessageContentText(text=Text(annotations=[], value='Plot a chart of GDP per Capita over time for Switzerland and the UK'), type='text')]\n",
      "[MessageContentImageFile(image_file=ImageFile(file_id='file-Bz3Wb1Gf2LSHvtsDJiUztUHQ'), type='image_file'), MessageContentText(text=Text(annotations=[], value='Here is the chart depicting the GDP per capita over time for Switzerland and the United Kingdom. You can observe the trends in the GDP per capita of both countries as it has evolved throughout the years available in the dataset. If you have any further requests or need additional information, please let me know!'), type='text')]\n",
      "[MessageContentText(text=Text(annotations=[], value='“Forecast GDP per Capita growth rates for the next five years'), type='text')]\n",
      "[MessageContentText(text=Text(annotations=[], value=\"To forecast GDP per capita growth rates for the next five years, we can use time series forecasting methods. A simple approach would be to fit a linear regression model to the historical data, but more complex models like ARIMA are typically used for time-series forecasting due to their ability to handle trends, seasonality, and noise.\\n\\nGiven that this is a GDP growth forecast, which can be influenced by numerous unpredictable external factors, it's important to note that any forecast is highly speculative and should be treated with caution.\\n\\nLet's proceed with a basic linear regression model forecast for each country separately. I will use the data from the 1990s onwards, as the earlier data is incomplete. To keep it simple, I'll use a linear trend to predict the next five years. Should you be interested in more sophisticated methods or a different approach, please let me know.\"), type='text')]\n",
      "[MessageContentText(text=Text(annotations=[], value=\"There was an error due to attempting to concatenate an integer with a string while generating an array for the forecast years. I'll correct this by ensuring all year values are treated as integers during the calculations. Let me fix this issue and run the forecast again.\"), type='text')]\n",
      "[MessageContentText(text=Text(annotations=[], value=\"It seems I made an error by attempting to use the years (as integer indices) to directly access the values of the series. This is not the correct method because the indices of the series are the actual year labels (as strings) rather than the positional indices of the years.\\n\\nTo fix this, I will correctly use the years as labels to access the GDP per capita data and re-attempt the forecast calculation. Let's correct this and try once more.\"), type='text')]\n",
      "[MessageContentText(text=Text(annotations=[], value='The following table presents the forecasted annual GDP per capita growth rates for Switzerland and the United Kingdom for the next five years, based on a linear regression model:\\n\\n| Year | Switzerland Growth Rate (%) | United Kingdom Growth Rate (%) |\\n|------|-----------------------------|--------------------------------|\\n| 2023 |                      -6.78% |                          -4.56% |\\n| 2024 |                       2.03% |                           2.03% |\\n| 2025 |                       2.03% |                           2.03% |\\n| 2026 |                       2.03% |                           2.03% |\\n| 2027 |                       2.03% |                           2.03% |\\n\\nPlease note that the growth rates for the years 2024 to 2027 are forecasted to be constant, which is an artifact of using a simple linear regression model that does not account for potential fluctuations in economic growth rates over time. The initial negative growth rate for 2023 may reflect recent trends in the dataset or be an artifact of the linear regression model, which can be influenced by the final values in the historical data.\\n\\nThese forecasts should be interpreted with caution as the methodology is relatively simplistic, and real-world economic growth can be influenced by a wide array of complex factors not captured in this model.\\n\\nIf you have any additional questions or need further analysis, please let me know.'), type='text')]\n",
      "[MessageContentText(text=Text(annotations=[], value='Plot charts showing the linear trend used to create the forecasts'), type='text')]\n",
      "[MessageContentImageFile(image_file=ImageFile(file_id='file-h518gFn4Whm3jm1YyknMEYKM'), type='image_file'), MessageContentImageFile(image_file=ImageFile(file_id='file-dMjZ9yZXKuLfPz39mlPehtiu'), type='image_file'), MessageContentText(text=Text(annotations=[], value='Here are two charts illustrating the historical GDP per capita data alongside the linear trends that were used for forecasting:\\n\\n1. The first chart shows the trend for Switzerland, with the historical data represented by markers and the trend line depicted as a red dashed line.\\n2. The second chart displays the trend for the United Kingdom, with the historical data indicated by markers and the trend line shown as a green dashed line.\\n\\nThese trends are extrapolated to forecast the GDP per capita growth rates for the next five years. The linear trends capture the overall direction of the economies based on historical data, but as mentioned earlier, they do not account for potential fluctuations and external factors; therefore, the actual future values may deviate from these trends.\\n\\nIf you have further questions or need additional analysis, feel free to ask.'), type='text')]\n"
     ]
    }
   ],
   "source": [
    "messages = client.beta.threads.messages.list(thread_id=thread.id, order=\"asc\")\n",
    "for m in messages:\n",
    "    print(m.content)"
   ]
  },
  {
   "cell_type": "code",
   "execution_count": 29,
   "metadata": {},
   "outputs": [
    {
     "data": {
      "text/plain": [
       "'file-h518gFn4Whm3jm1YyknMEYKM'"
      ]
     },
     "execution_count": 29,
     "metadata": {},
     "output_type": "execute_result"
    }
   ],
   "source": [
    "m.content[-3].image_file.file_id"
   ]
  },
  {
   "cell_type": "code",
   "execution_count": 30,
   "metadata": {},
   "outputs": [
    {
     "name": "stdout",
     "output_type": "stream",
     "text": [
      "file-dMjZ9yZXKuLfPz39mlPehtiu\n",
      "file-h518gFn4Whm3jm1YyknMEYKM\n"
     ]
    }
   ],
   "source": [
    "file_name_01 = m.content[-2].image_file.file_id\n",
    "file_name_02 = m.content[-3].image_file.file_id\n",
    "print(file_name_01)\n",
    "print(file_name_02)"
   ]
  },
  {
   "cell_type": "code",
   "execution_count": 31,
   "metadata": {},
   "outputs": [],
   "source": [
    "save_images(file_name_01,\"uk_forecast\")\n",
    "save_images(file_name_02,\"ch_forecast\")"
   ]
  },
  {
   "cell_type": "code",
   "execution_count": null,
   "metadata": {},
   "outputs": [],
   "source": []
  }
 ],
 "metadata": {
  "kernelspec": {
   "display_name": "venv-2023-09-03",
   "language": "python",
   "name": "python3"
  },
  "language_info": {
   "codemirror_mode": {
    "name": "ipython",
    "version": 3
   },
   "file_extension": ".py",
   "mimetype": "text/x-python",
   "name": "python",
   "nbconvert_exporter": "python",
   "pygments_lexer": "ipython3",
   "version": "3.11.5"
  }
 },
 "nbformat": 4,
 "nbformat_minor": 2
}
