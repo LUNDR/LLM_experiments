{
 "cells": [
  {
   "cell_type": "markdown",
   "metadata": {},
   "source": [
    "## Data analysis and visualisation with an Open AI assistant\n"
   ]
  },
  {
   "cell_type": "markdown",
   "metadata": {},
   "source": [
    "#### Import libraries\n",
    "Note: openai==1.2.4 was required here"
   ]
  },
  {
   "cell_type": "code",
   "execution_count": 4,
   "metadata": {},
   "outputs": [],
   "source": [
    "import os\n",
    "from dotenv import load_dotenv\n",
    "from openai import OpenAI\n",
    "from openai.types import Image, ImagesResponse\n",
    "import json\n",
    "from IPython.display import display, Markdown"
   ]
  },
  {
   "cell_type": "markdown",
   "metadata": {},
   "source": [
    "#### Define a series of helper functions"
   ]
  },
  {
   "cell_type": "code",
   "execution_count": 46,
   "metadata": {},
   "outputs": [],
   "source": [
    "# Capture json output from Assitants API\n",
    "def show_json(obj):\n",
    "    display(json.loads(obj.model_dump_json()))\n",
    "\n",
    "# Print messages from threads so you can read them\n",
    "def pretty_print(messages):\n",
    "    print(\"# Messages\")\n",
    "    for m in messages:\n",
    "        try:\n",
    "            print(f\"{m.role}: {m.content[0].text.value}\")\n",
    "        except:\n",
    "            pass\n",
    "    print()\n",
    "\n",
    "# Output any image created by the assistant\n",
    "def save_images(open_ai_file_name, desired_file_name):\n",
    "    client = OpenAI()\n",
    "\n",
    "    image_data = client.files.content(open_ai_file_name)\n",
    "    image_data_bytes = image_data.read()\n",
    "\n",
    "    with open(f\"./{desired_file_name}.png\", \"wb\") as file:\n",
    "        file.write(image_data_bytes)\n",
    "\n",
    "# Retrieve the thread from the assistants api\n",
    "def get_response(thread):\n",
    "    return client.beta.threads.messages.list(thread_id=thread.id, order=\"asc\")"
   ]
  },
  {
   "cell_type": "markdown",
   "metadata": {},
   "source": [
    "#### Define variables\n",
    "Note: Open api key is called from .env file - you will need to create your own .env file and obtain your own key"
   ]
  },
  {
   "cell_type": "code",
   "execution_count": 6,
   "metadata": {},
   "outputs": [],
   "source": [
    "load_dotenv()\n",
    "OPENAI_MODEL = \"gpt-4\"\n",
    "OPENAI_API_KEY = os.environ.get(\"OPENAI_API_KEY\")\n",
    "client = OpenAI()"
   ]
  },
  {
   "cell_type": "markdown",
   "metadata": {},
   "source": [
    "#### Assign the input file\n",
    "This is a file a downloaded from the World Bank Development Indicators dataset [WDI](https://databank.worldbank.org/source/world-development-indicators)"
   ]
  },
  {
   "cell_type": "code",
   "execution_count": 28,
   "metadata": {},
   "outputs": [],
   "source": [
    "\n",
    "file_path = \"./data/API_NY.GDP.PCAP.PP.CD_DS2_en_csv_v2_5728866.csv\"\n",
    "\n",
    "file = client.files.create(\n",
    "  file=open(file_path, \"rb\"),\n",
    "  purpose='assistants'\n",
    ")"
   ]
  },
  {
   "cell_type": "markdown",
   "metadata": {},
   "source": [
    "#### Create the assistant\n",
    "This will also appear in Open AI UI for Assiants when you are logged in"
   ]
  },
  {
   "cell_type": "code",
   "execution_count": 8,
   "metadata": {},
   "outputs": [],
   "source": [
    "assistant = client.beta.assistants.create(\n",
    "  name=\"Data visualizer\",\n",
    "  description=\"You are great at creating beautiful data visualizations. You analyze data present in .csv files, understand trends, and come up with data visualizations relevant to those trends. You also share a brief text summary of the trends observed.\",\n",
    "  model=\"gpt-4-1106-preview\",\n",
    "  tools=[{\"type\": \"code_interpreter\"}],\n",
    "  file_ids=[file.id]\n",
    ")"
   ]
  },
  {
   "cell_type": "markdown",
   "metadata": {},
   "source": [
    "#### Create a thread"
   ]
  },
  {
   "cell_type": "code",
   "execution_count": 9,
   "metadata": {},
   "outputs": [],
   "source": [
    "\n",
    "thread = client.beta.threads.create()"
   ]
  },
  {
   "cell_type": "markdown",
   "metadata": {},
   "source": [
    "#### Add a message to the thread\n",
    "Note: Here I instruct the assitant to skip the forst 4 rows, previously it did work out that this needed to be done, but you use a lot of tokens and it doesn't always work"
   ]
  },
  {
   "cell_type": "code",
   "execution_count": 10,
   "metadata": {},
   "outputs": [],
   "source": [
    "message = client.beta.threads.messages.create(\n",
    "      thread_id=thread.id,\n",
    "      role = \"user\",\n",
    "      content = \"Analyse the data for Switzerland and the UK. skip the first 4 rows when reading data in\",\n",
    "      file_ids= [file.id]\n",
    ")"
   ]
  },
  {
   "cell_type": "markdown",
   "metadata": {},
   "source": [
    "#### submit messages to the agent"
   ]
  },
  {
   "cell_type": "code",
   "execution_count": 11,
   "metadata": {},
   "outputs": [],
   "source": [
    "\n",
    "run = client.beta.threads.runs.create(\n",
    "  thread_id=thread.id,\n",
    "  assistant_id=assistant.id\n",
    ")"
   ]
  },
  {
   "cell_type": "markdown",
   "metadata": {},
   "source": [
    "#### retrieve messages from assistant"
   ]
  },
  {
   "cell_type": "code",
   "execution_count": 12,
   "metadata": {},
   "outputs": [
    {
     "data": {
      "text/plain": [
       "{'data': [{'id': 'msg_v7TK979CgP7oDvpFSfFZocYk',\n",
       "   'assistant_id': None,\n",
       "   'content': [{'text': {'annotations': [],\n",
       "      'value': 'Analyse the data for Switzerland and the UK. skip the first 4 rows when reading data in'},\n",
       "     'type': 'text'}],\n",
       "   'created_at': 1699972512,\n",
       "   'file_ids': ['file-tYweUlUpLBcPBOHffpeCJ9vF'],\n",
       "   'metadata': {},\n",
       "   'object': 'thread.message',\n",
       "   'role': 'user',\n",
       "   'run_id': None,\n",
       "   'thread_id': 'thread_woqFhBQoDqGgfZtVCsRxClb3'}],\n",
       " 'object': 'list',\n",
       " 'first_id': 'msg_v7TK979CgP7oDvpFSfFZocYk',\n",
       " 'last_id': 'msg_v7TK979CgP7oDvpFSfFZocYk',\n",
       " 'has_more': False}"
      ]
     },
     "metadata": {},
     "output_type": "display_data"
    }
   ],
   "source": [
    "messages = client.beta.threads.messages.list(thread_id=thread.id)\n",
    "show_json(messages)"
   ]
  },
  {
   "cell_type": "code",
   "execution_count": 13,
   "metadata": {},
   "outputs": [
    {
     "name": "stdout",
     "output_type": "stream",
     "text": [
      "# Messages\n",
      "user: Analyse the data for Switzerland and the UK. skip the first 4 rows when reading data in\n",
      "assistant: The data appears to be structured with countries listed in the rows and years as columns. Each row corresponds to a specific country with information about its GDP per capita, PPP (current international $) over the years. Let's now filter out the information for Switzerland and the United Kingdom (UK).\n",
      "assistant: We have successfully isolated the data for Switzerland and the United Kingdom. Each dataset contains the GDP per capita, PPP (current international $) for the respective country, along with a time series of these values across multiple years. There are some missing values in the earlier years, which is understandable given historical data availability.\n",
      "\n",
      "Do you have specific analyses or a specific time range in mind for these two countries?\n",
      "\n"
     ]
    }
   ],
   "source": [
    "pretty_print(get_response(thread))"
   ]
  },
  {
   "cell_type": "markdown",
   "metadata": {},
   "source": [
    "#### Add further instructions"
   ]
  },
  {
   "cell_type": "code",
   "execution_count": 14,
   "metadata": {},
   "outputs": [],
   "source": [
    "message = client.beta.threads.messages.create(\n",
    "      thread_id=thread.id,\n",
    "      role = \"user\",\n",
    "      content = \"Calculate annual average growth in GDP per capita for the UK and Switzerland for each decade from 1900 to 2020\",\n",
    "      file_ids= [file.id]\n",
    ")"
   ]
  },
  {
   "cell_type": "code",
   "execution_count": 15,
   "metadata": {},
   "outputs": [],
   "source": [
    "run = client.beta.threads.runs.create(\n",
    "  thread_id=thread.id,\n",
    "  assistant_id=assistant.id\n",
    ")"
   ]
  },
  {
   "cell_type": "code",
   "execution_count": 16,
   "metadata": {},
   "outputs": [
    {
     "data": {
      "text/plain": [
       "{'data': [{'id': 'msg_m7Ba6kJrcj5CyiJ2uzdbdCB6',\n",
       "   'assistant_id': 'asst_4xBr4555QJc29a7FMddTngC7',\n",
       "   'content': [{'text': {'annotations': [], 'value': ''}, 'type': 'text'}],\n",
       "   'created_at': 1699972565,\n",
       "   'file_ids': [],\n",
       "   'metadata': {},\n",
       "   'object': 'thread.message',\n",
       "   'role': 'assistant',\n",
       "   'run_id': 'run_yJFFwzHGnKJifI6EofWVw9xk',\n",
       "   'thread_id': 'thread_woqFhBQoDqGgfZtVCsRxClb3'},\n",
       "  {'id': 'msg_tsF3wI4kMM8Ih54VWOGx2Bi5',\n",
       "   'assistant_id': None,\n",
       "   'content': [{'text': {'annotations': [],\n",
       "      'value': 'Calculate annual average growth in GDP per capita for the UK and Switzerland for each decade from 1900 to 2020'},\n",
       "     'type': 'text'}],\n",
       "   'created_at': 1699972560,\n",
       "   'file_ids': ['file-tYweUlUpLBcPBOHffpeCJ9vF'],\n",
       "   'metadata': {},\n",
       "   'object': 'thread.message',\n",
       "   'role': 'user',\n",
       "   'run_id': None,\n",
       "   'thread_id': 'thread_woqFhBQoDqGgfZtVCsRxClb3'},\n",
       "  {'id': 'msg_oIYfrK1GVWE3twCNSlaZ8E7m',\n",
       "   'assistant_id': 'asst_4xBr4555QJc29a7FMddTngC7',\n",
       "   'content': [{'text': {'annotations': [],\n",
       "      'value': 'We have successfully isolated the data for Switzerland and the United Kingdom. Each dataset contains the GDP per capita, PPP (current international $) for the respective country, along with a time series of these values across multiple years. There are some missing values in the earlier years, which is understandable given historical data availability.\\n\\nDo you have specific analyses or a specific time range in mind for these two countries?'},\n",
       "     'type': 'text'}],\n",
       "   'created_at': 1699972532,\n",
       "   'file_ids': [],\n",
       "   'metadata': {},\n",
       "   'object': 'thread.message',\n",
       "   'role': 'assistant',\n",
       "   'run_id': 'run_gmADIpqyEuqFcjV1LMDRXIyu',\n",
       "   'thread_id': 'thread_woqFhBQoDqGgfZtVCsRxClb3'},\n",
       "  {'id': 'msg_drFQJavwziOPtjTAZ4KicFBU',\n",
       "   'assistant_id': 'asst_4xBr4555QJc29a7FMddTngC7',\n",
       "   'content': [{'text': {'annotations': [],\n",
       "      'value': \"The data appears to be structured with countries listed in the rows and years as columns. Each row corresponds to a specific country with information about its GDP per capita, PPP (current international $) over the years. Let's now filter out the information for Switzerland and the United Kingdom (UK).\"},\n",
       "     'type': 'text'}],\n",
       "   'created_at': 1699972526,\n",
       "   'file_ids': [],\n",
       "   'metadata': {},\n",
       "   'object': 'thread.message',\n",
       "   'role': 'assistant',\n",
       "   'run_id': 'run_gmADIpqyEuqFcjV1LMDRXIyu',\n",
       "   'thread_id': 'thread_woqFhBQoDqGgfZtVCsRxClb3'},\n",
       "  {'id': 'msg_v7TK979CgP7oDvpFSfFZocYk',\n",
       "   'assistant_id': None,\n",
       "   'content': [{'text': {'annotations': [],\n",
       "      'value': 'Analyse the data for Switzerland and the UK. skip the first 4 rows when reading data in'},\n",
       "     'type': 'text'}],\n",
       "   'created_at': 1699972512,\n",
       "   'file_ids': ['file-tYweUlUpLBcPBOHffpeCJ9vF'],\n",
       "   'metadata': {},\n",
       "   'object': 'thread.message',\n",
       "   'role': 'user',\n",
       "   'run_id': None,\n",
       "   'thread_id': 'thread_woqFhBQoDqGgfZtVCsRxClb3'}],\n",
       " 'object': 'list',\n",
       " 'first_id': 'msg_m7Ba6kJrcj5CyiJ2uzdbdCB6',\n",
       " 'last_id': 'msg_v7TK979CgP7oDvpFSfFZocYk',\n",
       " 'has_more': False}"
      ]
     },
     "metadata": {},
     "output_type": "display_data"
    }
   ],
   "source": [
    "messages = client.beta.threads.messages.list(thread_id=thread.id)\n",
    "show_json(messages)"
   ]
  },
  {
   "cell_type": "code",
   "execution_count": 18,
   "metadata": {},
   "outputs": [
    {
     "name": "stdout",
     "output_type": "stream",
     "text": [
      "# Messages\n",
      "user: Analyse the data for Switzerland and the UK. skip the first 4 rows when reading data in\n",
      "assistant: The data appears to be structured with countries listed in the rows and years as columns. Each row corresponds to a specific country with information about its GDP per capita, PPP (current international $) over the years. Let's now filter out the information for Switzerland and the United Kingdom (UK).\n",
      "assistant: We have successfully isolated the data for Switzerland and the United Kingdom. Each dataset contains the GDP per capita, PPP (current international $) for the respective country, along with a time series of these values across multiple years. There are some missing values in the earlier years, which is understandable given historical data availability.\n",
      "\n",
      "Do you have specific analyses or a specific time range in mind for these two countries?\n",
      "user: Calculate annual average growth in GDP per capita for the UK and Switzerland for each decade from 1900 to 2020\n",
      "assistant: To calculate the annual average growth in GDP per capita for each decade from 1900 to 2020, we'll need to focus on the relevant columns that consist of the annual GDP per capita data for the UK and Switzerland. Since the dataset seems to start from around 1960 based on the initial peek, we will calculate the growth for the decades from the 1960s onward.\n",
      "\n",
      "For each decade, we'll perform the following steps:\n",
      "1. Determine the GDP per capita at the start and end of the decade for each country.\n",
      "2. Calculate the compound annual growth rate (CAGR) for the decade.\n",
      "\n",
      "Let's start by extracting the relevant data for the UK and Switzerland and calculate the growth rates for the available decades.\n",
      "assistant: There was an error during the calculation because the loop assumed there would be data for the year 2029. Since we do not have data for that year, we should modify the function to handle the last decade (2020s) differently, considering only the data available up to 2022.\n",
      "\n",
      "I will adjust the function to handle this edge case and recalculate the growth rates. Let's correct this and continue.\n",
      "assistant: Here are the annual average growth rates in GDP per capita, expressed as percentages, for each decade where data is available:\n",
      "\n",
      "| Decade | Switzerland | United Kingdom |\n",
      "|--------|-------------|----------------|\n",
      "| 1960s  | N/A         | N/A            |\n",
      "| 1970s  | N/A         | N/A            |\n",
      "| 1980s  | N/A         | N/A            |\n",
      "| 1990s  | 2.01%       | 3.67%          |\n",
      "| 2000s  | 3.74%       | 2.83%          |\n",
      "| 2010s  | 2.93%       | 3.03%          |\n",
      "| 2020s  | 5.69%       | 5.98%          |\n",
      "\n",
      "Please note that the data for the 1960s, 1970s, and 1980s is not provided in the dataset. As a result, we calculate the growth rates starting from the 1990s. Additionally, the data for the 2020s only includes up to the year 2022.\n",
      "\n"
     ]
    }
   ],
   "source": [
    "pretty_print(get_response(thread))"
   ]
  },
  {
   "cell_type": "code",
   "execution_count": 19,
   "metadata": {},
   "outputs": [
    {
     "data": {
      "text/plain": [
       "{'data': [{'id': 'msg_ZNrl1ZAqaH2KAlEfjAPm019e',\n",
       "   'assistant_id': None,\n",
       "   'content': [{'text': {'annotations': [],\n",
       "      'value': 'Plot a chart of GDP per Capita over time for Switzerland and the UK'},\n",
       "     'type': 'text'}],\n",
       "   'created_at': 1699972655,\n",
       "   'file_ids': ['file-tYweUlUpLBcPBOHffpeCJ9vF'],\n",
       "   'metadata': {},\n",
       "   'object': 'thread.message',\n",
       "   'role': 'user',\n",
       "   'run_id': None,\n",
       "   'thread_id': 'thread_woqFhBQoDqGgfZtVCsRxClb3'},\n",
       "  {'id': 'msg_NlFMUGoBeUXqtyebWTtTMnSm',\n",
       "   'assistant_id': 'asst_4xBr4555QJc29a7FMddTngC7',\n",
       "   'content': [{'text': {'annotations': [],\n",
       "      'value': 'Here are the annual average growth rates in GDP per capita, expressed as percentages, for each decade where data is available:\\n\\n| Decade | Switzerland | United Kingdom |\\n|--------|-------------|----------------|\\n| 1960s  | N/A         | N/A            |\\n| 1970s  | N/A         | N/A            |\\n| 1980s  | N/A         | N/A            |\\n| 1990s  | 2.01%       | 3.67%          |\\n| 2000s  | 3.74%       | 2.83%          |\\n| 2010s  | 2.93%       | 3.03%          |\\n| 2020s  | 5.69%       | 5.98%          |\\n\\nPlease note that the data for the 1960s, 1970s, and 1980s is not provided in the dataset. As a result, we calculate the growth rates starting from the 1990s. Additionally, the data for the 2020s only includes up to the year 2022.'},\n",
       "     'type': 'text'}],\n",
       "   'created_at': 1699972607,\n",
       "   'file_ids': [],\n",
       "   'metadata': {},\n",
       "   'object': 'thread.message',\n",
       "   'role': 'assistant',\n",
       "   'run_id': 'run_yJFFwzHGnKJifI6EofWVw9xk',\n",
       "   'thread_id': 'thread_woqFhBQoDqGgfZtVCsRxClb3'},\n",
       "  {'id': 'msg_Exfmr0ib0AnJAgiiRjJRkgIb',\n",
       "   'assistant_id': 'asst_4xBr4555QJc29a7FMddTngC7',\n",
       "   'content': [{'text': {'annotations': [],\n",
       "      'value': \"There was an error during the calculation because the loop assumed there would be data for the year 2029. Since we do not have data for that year, we should modify the function to handle the last decade (2020s) differently, considering only the data available up to 2022.\\n\\nI will adjust the function to handle this edge case and recalculate the growth rates. Let's correct this and continue.\"},\n",
       "     'type': 'text'}],\n",
       "   'created_at': 1699972588,\n",
       "   'file_ids': [],\n",
       "   'metadata': {},\n",
       "   'object': 'thread.message',\n",
       "   'role': 'assistant',\n",
       "   'run_id': 'run_yJFFwzHGnKJifI6EofWVw9xk',\n",
       "   'thread_id': 'thread_woqFhBQoDqGgfZtVCsRxClb3'},\n",
       "  {'id': 'msg_m7Ba6kJrcj5CyiJ2uzdbdCB6',\n",
       "   'assistant_id': 'asst_4xBr4555QJc29a7FMddTngC7',\n",
       "   'content': [{'text': {'annotations': [],\n",
       "      'value': \"To calculate the annual average growth in GDP per capita for each decade from 1900 to 2020, we'll need to focus on the relevant columns that consist of the annual GDP per capita data for the UK and Switzerland. Since the dataset seems to start from around 1960 based on the initial peek, we will calculate the growth for the decades from the 1960s onward.\\n\\nFor each decade, we'll perform the following steps:\\n1. Determine the GDP per capita at the start and end of the decade for each country.\\n2. Calculate the compound annual growth rate (CAGR) for the decade.\\n\\nLet's start by extracting the relevant data for the UK and Switzerland and calculate the growth rates for the available decades.\"},\n",
       "     'type': 'text'}],\n",
       "   'created_at': 1699972565,\n",
       "   'file_ids': [],\n",
       "   'metadata': {},\n",
       "   'object': 'thread.message',\n",
       "   'role': 'assistant',\n",
       "   'run_id': 'run_yJFFwzHGnKJifI6EofWVw9xk',\n",
       "   'thread_id': 'thread_woqFhBQoDqGgfZtVCsRxClb3'},\n",
       "  {'id': 'msg_tsF3wI4kMM8Ih54VWOGx2Bi5',\n",
       "   'assistant_id': None,\n",
       "   'content': [{'text': {'annotations': [],\n",
       "      'value': 'Calculate annual average growth in GDP per capita for the UK and Switzerland for each decade from 1900 to 2020'},\n",
       "     'type': 'text'}],\n",
       "   'created_at': 1699972560,\n",
       "   'file_ids': ['file-tYweUlUpLBcPBOHffpeCJ9vF'],\n",
       "   'metadata': {},\n",
       "   'object': 'thread.message',\n",
       "   'role': 'user',\n",
       "   'run_id': None,\n",
       "   'thread_id': 'thread_woqFhBQoDqGgfZtVCsRxClb3'},\n",
       "  {'id': 'msg_oIYfrK1GVWE3twCNSlaZ8E7m',\n",
       "   'assistant_id': 'asst_4xBr4555QJc29a7FMddTngC7',\n",
       "   'content': [{'text': {'annotations': [],\n",
       "      'value': 'We have successfully isolated the data for Switzerland and the United Kingdom. Each dataset contains the GDP per capita, PPP (current international $) for the respective country, along with a time series of these values across multiple years. There are some missing values in the earlier years, which is understandable given historical data availability.\\n\\nDo you have specific analyses or a specific time range in mind for these two countries?'},\n",
       "     'type': 'text'}],\n",
       "   'created_at': 1699972532,\n",
       "   'file_ids': [],\n",
       "   'metadata': {},\n",
       "   'object': 'thread.message',\n",
       "   'role': 'assistant',\n",
       "   'run_id': 'run_gmADIpqyEuqFcjV1LMDRXIyu',\n",
       "   'thread_id': 'thread_woqFhBQoDqGgfZtVCsRxClb3'},\n",
       "  {'id': 'msg_drFQJavwziOPtjTAZ4KicFBU',\n",
       "   'assistant_id': 'asst_4xBr4555QJc29a7FMddTngC7',\n",
       "   'content': [{'text': {'annotations': [],\n",
       "      'value': \"The data appears to be structured with countries listed in the rows and years as columns. Each row corresponds to a specific country with information about its GDP per capita, PPP (current international $) over the years. Let's now filter out the information for Switzerland and the United Kingdom (UK).\"},\n",
       "     'type': 'text'}],\n",
       "   'created_at': 1699972526,\n",
       "   'file_ids': [],\n",
       "   'metadata': {},\n",
       "   'object': 'thread.message',\n",
       "   'role': 'assistant',\n",
       "   'run_id': 'run_gmADIpqyEuqFcjV1LMDRXIyu',\n",
       "   'thread_id': 'thread_woqFhBQoDqGgfZtVCsRxClb3'},\n",
       "  {'id': 'msg_v7TK979CgP7oDvpFSfFZocYk',\n",
       "   'assistant_id': None,\n",
       "   'content': [{'text': {'annotations': [],\n",
       "      'value': 'Analyse the data for Switzerland and the UK. skip the first 4 rows when reading data in'},\n",
       "     'type': 'text'}],\n",
       "   'created_at': 1699972512,\n",
       "   'file_ids': ['file-tYweUlUpLBcPBOHffpeCJ9vF'],\n",
       "   'metadata': {},\n",
       "   'object': 'thread.message',\n",
       "   'role': 'user',\n",
       "   'run_id': None,\n",
       "   'thread_id': 'thread_woqFhBQoDqGgfZtVCsRxClb3'}],\n",
       " 'object': 'list',\n",
       " 'first_id': 'msg_ZNrl1ZAqaH2KAlEfjAPm019e',\n",
       " 'last_id': 'msg_v7TK979CgP7oDvpFSfFZocYk',\n",
       " 'has_more': False}"
      ]
     },
     "metadata": {},
     "output_type": "display_data"
    }
   ],
   "source": [
    "message = client.beta.threads.messages.create(\n",
    "      thread_id=thread.id,\n",
    "      role = \"user\",\n",
    "      content = \"Plot a chart of GDP per Capita over time for Switzerland and the UK\",\n",
    "      file_ids= [file.id]\n",
    ")\n",
    "run = client.beta.threads.runs.create(\n",
    "  thread_id=thread.id,\n",
    "  assistant_id=assistant.id\n",
    ")\n",
    "messages = client.beta.threads.messages.list(thread_id=thread.id)\n",
    "show_json(messages)"
   ]
  },
  {
   "cell_type": "markdown",
   "metadata": {},
   "source": [
    "#### Extracting images\n",
    "1. Find the messages containing an image\n",
    "2. extract the filename\n",
    "3. Decode and save that image"
   ]
  },
  {
   "cell_type": "code",
   "execution_count": 20,
   "metadata": {},
   "outputs": [
    {
     "name": "stdout",
     "output_type": "stream",
     "text": [
      "[MessageContentText(text=Text(annotations=[], value='Analyse the data for Switzerland and the UK. skip the first 4 rows when reading data in'), type='text')]\n",
      "[MessageContentText(text=Text(annotations=[], value=\"The data appears to be structured with countries listed in the rows and years as columns. Each row corresponds to a specific country with information about its GDP per capita, PPP (current international $) over the years. Let's now filter out the information for Switzerland and the United Kingdom (UK).\"), type='text')]\n",
      "[MessageContentText(text=Text(annotations=[], value='We have successfully isolated the data for Switzerland and the United Kingdom. Each dataset contains the GDP per capita, PPP (current international $) for the respective country, along with a time series of these values across multiple years. There are some missing values in the earlier years, which is understandable given historical data availability.\\n\\nDo you have specific analyses or a specific time range in mind for these two countries?'), type='text')]\n",
      "[MessageContentText(text=Text(annotations=[], value='Calculate annual average growth in GDP per capita for the UK and Switzerland for each decade from 1900 to 2020'), type='text')]\n",
      "[MessageContentText(text=Text(annotations=[], value=\"To calculate the annual average growth in GDP per capita for each decade from 1900 to 2020, we'll need to focus on the relevant columns that consist of the annual GDP per capita data for the UK and Switzerland. Since the dataset seems to start from around 1960 based on the initial peek, we will calculate the growth for the decades from the 1960s onward.\\n\\nFor each decade, we'll perform the following steps:\\n1. Determine the GDP per capita at the start and end of the decade for each country.\\n2. Calculate the compound annual growth rate (CAGR) for the decade.\\n\\nLet's start by extracting the relevant data for the UK and Switzerland and calculate the growth rates for the available decades.\"), type='text')]\n",
      "[MessageContentText(text=Text(annotations=[], value=\"There was an error during the calculation because the loop assumed there would be data for the year 2029. Since we do not have data for that year, we should modify the function to handle the last decade (2020s) differently, considering only the data available up to 2022.\\n\\nI will adjust the function to handle this edge case and recalculate the growth rates. Let's correct this and continue.\"), type='text')]\n",
      "[MessageContentText(text=Text(annotations=[], value='Here are the annual average growth rates in GDP per capita, expressed as percentages, for each decade where data is available:\\n\\n| Decade | Switzerland | United Kingdom |\\n|--------|-------------|----------------|\\n| 1960s  | N/A         | N/A            |\\n| 1970s  | N/A         | N/A            |\\n| 1980s  | N/A         | N/A            |\\n| 1990s  | 2.01%       | 3.67%          |\\n| 2000s  | 3.74%       | 2.83%          |\\n| 2010s  | 2.93%       | 3.03%          |\\n| 2020s  | 5.69%       | 5.98%          |\\n\\nPlease note that the data for the 1960s, 1970s, and 1980s is not provided in the dataset. As a result, we calculate the growth rates starting from the 1990s. Additionally, the data for the 2020s only includes up to the year 2022.'), type='text')]\n",
      "[MessageContentText(text=Text(annotations=[], value='Plot a chart of GDP per Capita over time for Switzerland and the UK'), type='text')]\n",
      "[MessageContentImageFile(image_file=ImageFile(file_id='file-8mrc4f1I64x45z9npEWG6BaV'), type='image_file'), MessageContentText(text=Text(annotations=[], value='Here is the chart depicting the GDP per capita over time for both Switzerland and the United Kingdom. As you can see, the GDP per capita for both countries increases over the years with a general upward trend. \\n\\nSwitzerland consistently shows a higher GDP per capita compared to the UK, indicating a higher standard of living or economic productivity when adjusted for the cost of living and inflation across different countries. The data points are represented with markers; \"o\" for Switzerland and \"x\" for the United Kingdom.'), type='text')]\n"
     ]
    }
   ],
   "source": [
    "messages = client.beta.threads.messages.list(thread_id=thread.id, order=\"asc\")\n",
    "for m in messages:\n",
    "    print(m.content)"
   ]
  },
  {
   "cell_type": "code",
   "execution_count": 21,
   "metadata": {},
   "outputs": [
    {
     "name": "stdout",
     "output_type": "stream",
     "text": [
      "file-8mrc4f1I64x45z9npEWG6BaV\n"
     ]
    }
   ],
   "source": [
    "file_name = m.content[-2].image_file.file_id\n",
    "print(m.content[-2].image_file.file_id)"
   ]
  },
  {
   "cell_type": "code",
   "execution_count": 25,
   "metadata": {},
   "outputs": [],
   "source": [
    "save_images(file_name,\"ch_uk_gdp_per_capita\")"
   ]
  },
  {
   "cell_type": "markdown",
   "metadata": {},
   "source": [
    "#### Add further instructions"
   ]
  },
  {
   "cell_type": "code",
   "execution_count": 26,
   "metadata": {},
   "outputs": [],
   "source": [
    "message = client.beta.threads.messages.create(\n",
    "      thread_id=thread.id,\n",
    "      role = \"user\",\n",
    "      content = \"“Forecast GDP per Capita growth rates for the next five years\",\n",
    "      file_ids= [file.id]\n",
    ")\n",
    "run = client.beta.threads.runs.create(\n",
    "  thread_id=thread.id,\n",
    "  assistant_id=assistant.id\n",
    ")\n",
    "messages = client.beta.threads.messages.list(thread_id=thread.id)"
   ]
  },
  {
   "cell_type": "code",
   "execution_count": 29,
   "metadata": {},
   "outputs": [
    {
     "name": "stdout",
     "output_type": "stream",
     "text": [
      "[MessageContentText(text=Text(annotations=[], value='Analyse the data for Switzerland and the UK. skip the first 4 rows when reading data in'), type='text')]\n",
      "[MessageContentText(text=Text(annotations=[], value=\"The data appears to be structured with countries listed in the rows and years as columns. Each row corresponds to a specific country with information about its GDP per capita, PPP (current international $) over the years. Let's now filter out the information for Switzerland and the United Kingdom (UK).\"), type='text')]\n",
      "[MessageContentText(text=Text(annotations=[], value='We have successfully isolated the data for Switzerland and the United Kingdom. Each dataset contains the GDP per capita, PPP (current international $) for the respective country, along with a time series of these values across multiple years. There are some missing values in the earlier years, which is understandable given historical data availability.\\n\\nDo you have specific analyses or a specific time range in mind for these two countries?'), type='text')]\n",
      "[MessageContentText(text=Text(annotations=[], value='Calculate annual average growth in GDP per capita for the UK and Switzerland for each decade from 1900 to 2020'), type='text')]\n",
      "[MessageContentText(text=Text(annotations=[], value=\"To calculate the annual average growth in GDP per capita for each decade from 1900 to 2020, we'll need to focus on the relevant columns that consist of the annual GDP per capita data for the UK and Switzerland. Since the dataset seems to start from around 1960 based on the initial peek, we will calculate the growth for the decades from the 1960s onward.\\n\\nFor each decade, we'll perform the following steps:\\n1. Determine the GDP per capita at the start and end of the decade for each country.\\n2. Calculate the compound annual growth rate (CAGR) for the decade.\\n\\nLet's start by extracting the relevant data for the UK and Switzerland and calculate the growth rates for the available decades.\"), type='text')]\n",
      "[MessageContentText(text=Text(annotations=[], value=\"There was an error during the calculation because the loop assumed there would be data for the year 2029. Since we do not have data for that year, we should modify the function to handle the last decade (2020s) differently, considering only the data available up to 2022.\\n\\nI will adjust the function to handle this edge case and recalculate the growth rates. Let's correct this and continue.\"), type='text')]\n",
      "[MessageContentText(text=Text(annotations=[], value='Here are the annual average growth rates in GDP per capita, expressed as percentages, for each decade where data is available:\\n\\n| Decade | Switzerland | United Kingdom |\\n|--------|-------------|----------------|\\n| 1960s  | N/A         | N/A            |\\n| 1970s  | N/A         | N/A            |\\n| 1980s  | N/A         | N/A            |\\n| 1990s  | 2.01%       | 3.67%          |\\n| 2000s  | 3.74%       | 2.83%          |\\n| 2010s  | 2.93%       | 3.03%          |\\n| 2020s  | 5.69%       | 5.98%          |\\n\\nPlease note that the data for the 1960s, 1970s, and 1980s is not provided in the dataset. As a result, we calculate the growth rates starting from the 1990s. Additionally, the data for the 2020s only includes up to the year 2022.'), type='text')]\n",
      "[MessageContentText(text=Text(annotations=[], value='Plot a chart of GDP per Capita over time for Switzerland and the UK'), type='text')]\n",
      "[MessageContentImageFile(image_file=ImageFile(file_id='file-8mrc4f1I64x45z9npEWG6BaV'), type='image_file'), MessageContentText(text=Text(annotations=[], value='Here is the chart depicting the GDP per capita over time for both Switzerland and the United Kingdom. As you can see, the GDP per capita for both countries increases over the years with a general upward trend. \\n\\nSwitzerland consistently shows a higher GDP per capita compared to the UK, indicating a higher standard of living or economic productivity when adjusted for the cost of living and inflation across different countries. The data points are represented with markers; \"o\" for Switzerland and \"x\" for the United Kingdom.'), type='text')]\n",
      "[MessageContentText(text=Text(annotations=[], value='“Forecast GDP per Capita growth rates for the next five years'), type='text')]\n",
      "[MessageContentText(text=Text(annotations=[], value=\"Forecasting GDP per capita growth rates for the next five years requires a model that can extrapolate future values from historical data. One of the simplest forecasting methods is to use a linear trend based on recent growth rates. However, this method doesn't capture potential changes in economic conditions or external factors that could influence future growth. More sophisticated models would incorporate such factors, but for the purposes of this exercise, I will assume a linear trend based on the most recent figures available.\\n\\nI'll use the growth rate from the latest available decade (2020s) as a basis for forecasting the next five years. Let's calculate the forecasted growth rates for Switzerland and the UK.\"), type='text')]\n",
      "[MessageContentText(text=Text(annotations=[], value=\"It appears that I made an attempt to process the data without re-importing the necessary Python libraries after the code execution state was reset. Let's import the required libraries and load the data again. Then I'll proceed with the forecasting.\"), type='text')]\n",
      "[MessageContentText(text=Text(annotations=[], value=\"It seems there was an issue with accessing the columns directly using a list of integers. We must first ensure that we access them as strings, as they are in the DataFrame's columns. Let's correct this and proceed with the forecasting.\"), type='text')]\n",
      "[MessageContentText(text=Text(annotations=[], value=\"My mistake. It looks like there was an attempt to reshape an `Int64Index` object directly, which is not possible. The `reshape` method is valid for numpy arrays, so I need to convert the index to a numpy array before attempting to reshape it. I'll correct this and re-run the forecast.\"), type='text')]\n",
      "[MessageContentText(text=Text(annotations=[], value=\"It seems I made an error attempting to convert the DataFrame column labels directly to integers. The column labels may contain some non-numeric values which can’t be converted to integers, and attempting to do so directly causes an error. Let's focus only on the numeric columns (years) and perform the conversion correctly. I will adjust the code and try again.\"), type='text')]\n",
      "[MessageContentText(text=Text(annotations=[], value='The forecasted annual average growth rates in GDP per capita for the next five years are as follows:\\n\\nFor Switzerland:\\n- Year 1: 2.18%\\n- Year 2: 2.13%\\n- Year 3: 2.09%\\n- Year 4: 2.05%\\n\\nFor the United Kingdom (UK):\\n- Year 1: 2.12%\\n- Year 2: 2.08%\\n- Year 3: 2.04%\\n- Year 4: 1.99%\\n\\nThese growth rates assume a linear trend based on the historical data available for each country. It should be noted that these are based on a simple linear projection and may not factor in potential economic changes, policy impacts, and other events that could significantly influence actual growth rates in the future.'), type='text')]\n"
     ]
    }
   ],
   "source": [
    "messages = client.beta.threads.messages.list(thread_id=thread.id, order=\"asc\")\n",
    "for m in messages:\n",
    "    print(m.content)"
   ]
  },
  {
   "cell_type": "code",
   "execution_count": 39,
   "metadata": {},
   "outputs": [
    {
     "name": "stdout",
     "output_type": "stream",
     "text": [
      "# Messages\n",
      "user: Analyse the data for Switzerland and the UK. skip the first 4 rows when reading data in\n",
      "assistant: The data appears to be structured with countries listed in the rows and years as columns. Each row corresponds to a specific country with information about its GDP per capita, PPP (current international $) over the years. Let's now filter out the information for Switzerland and the United Kingdom (UK).\n",
      "assistant: We have successfully isolated the data for Switzerland and the United Kingdom. Each dataset contains the GDP per capita, PPP (current international $) for the respective country, along with a time series of these values across multiple years. There are some missing values in the earlier years, which is understandable given historical data availability.\n",
      "\n",
      "Do you have specific analyses or a specific time range in mind for these two countries?\n",
      "user: Calculate annual average growth in GDP per capita for the UK and Switzerland for each decade from 1900 to 2020\n",
      "assistant: To calculate the annual average growth in GDP per capita for each decade from 1900 to 2020, we'll need to focus on the relevant columns that consist of the annual GDP per capita data for the UK and Switzerland. Since the dataset seems to start from around 1960 based on the initial peek, we will calculate the growth for the decades from the 1960s onward.\n",
      "\n",
      "For each decade, we'll perform the following steps:\n",
      "1. Determine the GDP per capita at the start and end of the decade for each country.\n",
      "2. Calculate the compound annual growth rate (CAGR) for the decade.\n",
      "\n",
      "Let's start by extracting the relevant data for the UK and Switzerland and calculate the growth rates for the available decades.\n",
      "assistant: There was an error during the calculation because the loop assumed there would be data for the year 2029. Since we do not have data for that year, we should modify the function to handle the last decade (2020s) differently, considering only the data available up to 2022.\n",
      "\n",
      "I will adjust the function to handle this edge case and recalculate the growth rates. Let's correct this and continue.\n",
      "assistant: Here are the annual average growth rates in GDP per capita, expressed as percentages, for each decade where data is available:\n",
      "\n",
      "| Decade | Switzerland | United Kingdom |\n",
      "|--------|-------------|----------------|\n",
      "| 1960s  | N/A         | N/A            |\n",
      "| 1970s  | N/A         | N/A            |\n",
      "| 1980s  | N/A         | N/A            |\n",
      "| 1990s  | 2.01%       | 3.67%          |\n",
      "| 2000s  | 3.74%       | 2.83%          |\n",
      "| 2010s  | 2.93%       | 3.03%          |\n",
      "| 2020s  | 5.69%       | 5.98%          |\n",
      "\n",
      "Please note that the data for the 1960s, 1970s, and 1980s is not provided in the dataset. As a result, we calculate the growth rates starting from the 1990s. Additionally, the data for the 2020s only includes up to the year 2022.\n",
      "user: Plot a chart of GDP per Capita over time for Switzerland and the UK\n",
      "user: “Forecast GDP per Capita growth rates for the next five years\n",
      "assistant: Forecasting GDP per capita growth rates for the next five years requires a model that can extrapolate future values from historical data. One of the simplest forecasting methods is to use a linear trend based on recent growth rates. However, this method doesn't capture potential changes in economic conditions or external factors that could influence future growth. More sophisticated models would incorporate such factors, but for the purposes of this exercise, I will assume a linear trend based on the most recent figures available.\n",
      "\n",
      "I'll use the growth rate from the latest available decade (2020s) as a basis for forecasting the next five years. Let's calculate the forecasted growth rates for Switzerland and the UK.\n",
      "assistant: It appears that I made an attempt to process the data without re-importing the necessary Python libraries after the code execution state was reset. Let's import the required libraries and load the data again. Then I'll proceed with the forecasting.\n",
      "assistant: It seems there was an issue with accessing the columns directly using a list of integers. We must first ensure that we access them as strings, as they are in the DataFrame's columns. Let's correct this and proceed with the forecasting.\n",
      "assistant: My mistake. It looks like there was an attempt to reshape an `Int64Index` object directly, which is not possible. The `reshape` method is valid for numpy arrays, so I need to convert the index to a numpy array before attempting to reshape it. I'll correct this and re-run the forecast.\n",
      "assistant: It seems I made an error attempting to convert the DataFrame column labels directly to integers. The column labels may contain some non-numeric values which can’t be converted to integers, and attempting to do so directly causes an error. Let's focus only on the numeric columns (years) and perform the conversion correctly. I will adjust the code and try again.\n",
      "assistant: The forecasted annual average growth rates in GDP per capita for the next five years are as follows:\n",
      "\n",
      "For Switzerland:\n",
      "- Year 1: 2.18%\n",
      "- Year 2: 2.13%\n",
      "- Year 3: 2.09%\n",
      "- Year 4: 2.05%\n",
      "\n",
      "For the United Kingdom (UK):\n",
      "- Year 1: 2.12%\n",
      "- Year 2: 2.08%\n",
      "- Year 3: 2.04%\n",
      "- Year 4: 1.99%\n",
      "\n",
      "These growth rates assume a linear trend based on the historical data available for each country. It should be noted that these are based on a simple linear projection and may not factor in potential economic changes, policy impacts, and other events that could significantly influence actual growth rates in the future.\n",
      "\n"
     ]
    }
   ],
   "source": [
    "pretty_print(get_response(thread))"
   ]
  },
  {
   "cell_type": "code",
   "execution_count": 40,
   "metadata": {},
   "outputs": [],
   "source": [
    "message = client.beta.threads.messages.create(\n",
    "      thread_id=thread.id,\n",
    "      role = \"user\",\n",
    "      content = \"Plot charts showing the linear trend used to create the forecasts\",\n",
    "      file_ids= [file.id]\n",
    ")\n",
    "run = client.beta.threads.runs.create(\n",
    "  thread_id=thread.id,\n",
    "  assistant_id=assistant.id\n",
    ")\n",
    "messages = client.beta.threads.messages.list(thread_id=thread.id)"
   ]
  },
  {
   "cell_type": "code",
   "execution_count": 41,
   "metadata": {},
   "outputs": [
    {
     "name": "stdout",
     "output_type": "stream",
     "text": [
      "[MessageContentText(text=Text(annotations=[], value='Analyse the data for Switzerland and the UK. skip the first 4 rows when reading data in'), type='text')]\n",
      "[MessageContentText(text=Text(annotations=[], value=\"The data appears to be structured with countries listed in the rows and years as columns. Each row corresponds to a specific country with information about its GDP per capita, PPP (current international $) over the years. Let's now filter out the information for Switzerland and the United Kingdom (UK).\"), type='text')]\n",
      "[MessageContentText(text=Text(annotations=[], value='We have successfully isolated the data for Switzerland and the United Kingdom. Each dataset contains the GDP per capita, PPP (current international $) for the respective country, along with a time series of these values across multiple years. There are some missing values in the earlier years, which is understandable given historical data availability.\\n\\nDo you have specific analyses or a specific time range in mind for these two countries?'), type='text')]\n",
      "[MessageContentText(text=Text(annotations=[], value='Calculate annual average growth in GDP per capita for the UK and Switzerland for each decade from 1900 to 2020'), type='text')]\n",
      "[MessageContentText(text=Text(annotations=[], value=\"To calculate the annual average growth in GDP per capita for each decade from 1900 to 2020, we'll need to focus on the relevant columns that consist of the annual GDP per capita data for the UK and Switzerland. Since the dataset seems to start from around 1960 based on the initial peek, we will calculate the growth for the decades from the 1960s onward.\\n\\nFor each decade, we'll perform the following steps:\\n1. Determine the GDP per capita at the start and end of the decade for each country.\\n2. Calculate the compound annual growth rate (CAGR) for the decade.\\n\\nLet's start by extracting the relevant data for the UK and Switzerland and calculate the growth rates for the available decades.\"), type='text')]\n",
      "[MessageContentText(text=Text(annotations=[], value=\"There was an error during the calculation because the loop assumed there would be data for the year 2029. Since we do not have data for that year, we should modify the function to handle the last decade (2020s) differently, considering only the data available up to 2022.\\n\\nI will adjust the function to handle this edge case and recalculate the growth rates. Let's correct this and continue.\"), type='text')]\n",
      "[MessageContentText(text=Text(annotations=[], value='Here are the annual average growth rates in GDP per capita, expressed as percentages, for each decade where data is available:\\n\\n| Decade | Switzerland | United Kingdom |\\n|--------|-------------|----------------|\\n| 1960s  | N/A         | N/A            |\\n| 1970s  | N/A         | N/A            |\\n| 1980s  | N/A         | N/A            |\\n| 1990s  | 2.01%       | 3.67%          |\\n| 2000s  | 3.74%       | 2.83%          |\\n| 2010s  | 2.93%       | 3.03%          |\\n| 2020s  | 5.69%       | 5.98%          |\\n\\nPlease note that the data for the 1960s, 1970s, and 1980s is not provided in the dataset. As a result, we calculate the growth rates starting from the 1990s. Additionally, the data for the 2020s only includes up to the year 2022.'), type='text')]\n",
      "[MessageContentText(text=Text(annotations=[], value='Plot a chart of GDP per Capita over time for Switzerland and the UK'), type='text')]\n",
      "[MessageContentImageFile(image_file=ImageFile(file_id='file-8mrc4f1I64x45z9npEWG6BaV'), type='image_file'), MessageContentText(text=Text(annotations=[], value='Here is the chart depicting the GDP per capita over time for both Switzerland and the United Kingdom. As you can see, the GDP per capita for both countries increases over the years with a general upward trend. \\n\\nSwitzerland consistently shows a higher GDP per capita compared to the UK, indicating a higher standard of living or economic productivity when adjusted for the cost of living and inflation across different countries. The data points are represented with markers; \"o\" for Switzerland and \"x\" for the United Kingdom.'), type='text')]\n",
      "[MessageContentText(text=Text(annotations=[], value='“Forecast GDP per Capita growth rates for the next five years'), type='text')]\n",
      "[MessageContentText(text=Text(annotations=[], value=\"Forecasting GDP per capita growth rates for the next five years requires a model that can extrapolate future values from historical data. One of the simplest forecasting methods is to use a linear trend based on recent growth rates. However, this method doesn't capture potential changes in economic conditions or external factors that could influence future growth. More sophisticated models would incorporate such factors, but for the purposes of this exercise, I will assume a linear trend based on the most recent figures available.\\n\\nI'll use the growth rate from the latest available decade (2020s) as a basis for forecasting the next five years. Let's calculate the forecasted growth rates for Switzerland and the UK.\"), type='text')]\n",
      "[MessageContentText(text=Text(annotations=[], value=\"It appears that I made an attempt to process the data without re-importing the necessary Python libraries after the code execution state was reset. Let's import the required libraries and load the data again. Then I'll proceed with the forecasting.\"), type='text')]\n",
      "[MessageContentText(text=Text(annotations=[], value=\"It seems there was an issue with accessing the columns directly using a list of integers. We must first ensure that we access them as strings, as they are in the DataFrame's columns. Let's correct this and proceed with the forecasting.\"), type='text')]\n",
      "[MessageContentText(text=Text(annotations=[], value=\"My mistake. It looks like there was an attempt to reshape an `Int64Index` object directly, which is not possible. The `reshape` method is valid for numpy arrays, so I need to convert the index to a numpy array before attempting to reshape it. I'll correct this and re-run the forecast.\"), type='text')]\n",
      "[MessageContentText(text=Text(annotations=[], value=\"It seems I made an error attempting to convert the DataFrame column labels directly to integers. The column labels may contain some non-numeric values which can’t be converted to integers, and attempting to do so directly causes an error. Let's focus only on the numeric columns (years) and perform the conversion correctly. I will adjust the code and try again.\"), type='text')]\n",
      "[MessageContentText(text=Text(annotations=[], value='The forecasted annual average growth rates in GDP per capita for the next five years are as follows:\\n\\nFor Switzerland:\\n- Year 1: 2.18%\\n- Year 2: 2.13%\\n- Year 3: 2.09%\\n- Year 4: 2.05%\\n\\nFor the United Kingdom (UK):\\n- Year 1: 2.12%\\n- Year 2: 2.08%\\n- Year 3: 2.04%\\n- Year 4: 1.99%\\n\\nThese growth rates assume a linear trend based on the historical data available for each country. It should be noted that these are based on a simple linear projection and may not factor in potential economic changes, policy impacts, and other events that could significantly influence actual growth rates in the future.'), type='text')]\n",
      "[MessageContentText(text=Text(annotations=[], value='Plot charts showing the linear trend used to create the forecasts'), type='text')]\n",
      "[MessageContentImageFile(image_file=ImageFile(file_id='file-Wm6U6UmIX6kgBMnjzpMUQl27'), type='image_file'), MessageContentImageFile(image_file=ImageFile(file_id='file-LoYF2Zpq9VKk1iXdPRYNgM1W'), type='image_file'), MessageContentText(text=Text(annotations=[], value='Here are the charts depicting the historical GDP per capita data along with the linear trend forecast for Switzerland and the United Kingdom (UK). The historical data is shown with circles connected by a solid line, while the forecasted data for the next five years is shown with crosses connected by a dashed line. The linear trend used for the forecasts is visible as an extension of the historical data.'), type='text')]\n"
     ]
    }
   ],
   "source": [
    "messages = client.beta.threads.messages.list(thread_id=thread.id, order=\"asc\")\n",
    "for m in messages:\n",
    "    print(m.content)"
   ]
  },
  {
   "cell_type": "code",
   "execution_count": 43,
   "metadata": {},
   "outputs": [
    {
     "data": {
      "text/plain": [
       "'file-Wm6U6UmIX6kgBMnjzpMUQl27'"
      ]
     },
     "execution_count": 43,
     "metadata": {},
     "output_type": "execute_result"
    }
   ],
   "source": [
    "m.content[-3].image_file.file_id"
   ]
  },
  {
   "cell_type": "code",
   "execution_count": 44,
   "metadata": {},
   "outputs": [
    {
     "name": "stdout",
     "output_type": "stream",
     "text": [
      "file-LoYF2Zpq9VKk1iXdPRYNgM1W\n",
      "file-Wm6U6UmIX6kgBMnjzpMUQl27\n"
     ]
    }
   ],
   "source": [
    "file_name_01 = m.content[-2].image_file.file_id\n",
    "file_name_02 = m.content[-3].image_file.file_id\n",
    "print(file_name_01)\n",
    "print(file_name_02)"
   ]
  },
  {
   "cell_type": "code",
   "execution_count": 47,
   "metadata": {},
   "outputs": [],
   "source": [
    "save_images(file_name_01,\"uk_forecast\")\n",
    "save_images(file_name_02,\"ch_forecast\")"
   ]
  }
 ],
 "metadata": {
  "kernelspec": {
   "display_name": "venv-2023-09-03",
   "language": "python",
   "name": "python3"
  },
  "language_info": {
   "codemirror_mode": {
    "name": "ipython",
    "version": 3
   },
   "file_extension": ".py",
   "mimetype": "text/x-python",
   "name": "python",
   "nbconvert_exporter": "python",
   "pygments_lexer": "ipython3",
   "version": "3.11.5"
  }
 },
 "nbformat": 4,
 "nbformat_minor": 2
}
